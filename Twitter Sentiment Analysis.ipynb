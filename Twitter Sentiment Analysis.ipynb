{
  "cells": [
    {
      "cell_type": "code",
      "execution_count": 5,
      "id": "7669e686",
      "metadata": {
        "id": "7669e686",
        "outputId": "40c72445-578a-4aad-a0a2-e39128a1e139",
        "colab": {
          "base_uri": "https://localhost:8080/"
        }
      },
      "outputs": [
        {
          "output_type": "stream",
          "name": "stdout",
          "text": [
            "Looking in indexes: https://pypi.org/simple, https://us-python.pkg.dev/colab-wheels/public/simple/\n",
            "Collecting twint\n",
            "  Cloning https://github.com/twintproject/twint.git (to revision origin/master) to /tmp/pip-install-jrri9av5/twint_4c4f82540b4d4135aa5b60d3811de964\n",
            "  Running command git clone -q https://github.com/twintproject/twint.git /tmp/pip-install-jrri9av5/twint_4c4f82540b4d4135aa5b60d3811de964\n",
            "\u001b[33m  WARNING: Did not find branch or tag 'origin/master', assuming revision or ref.\u001b[0m\n",
            "  Running command git checkout -q origin/master\n",
            "Requirement already satisfied: aiohttp in /usr/local/lib/python3.7/dist-packages (from twint) (3.8.1)\n",
            "Requirement already satisfied: aiodns in /usr/local/lib/python3.7/dist-packages (from twint) (3.0.0)\n",
            "Requirement already satisfied: beautifulsoup4 in /usr/local/lib/python3.7/dist-packages (from twint) (4.6.3)\n",
            "Requirement already satisfied: cchardet in /usr/local/lib/python3.7/dist-packages (from twint) (2.1.7)\n",
            "Requirement already satisfied: dataclasses in /root/.local/lib/python3.7/site-packages (from twint) (0.6)\n",
            "Requirement already satisfied: elasticsearch in /usr/local/lib/python3.7/dist-packages (from twint) (8.2.3)\n",
            "Requirement already satisfied: pysocks in /usr/local/lib/python3.7/dist-packages (from twint) (1.7.1)\n",
            "Requirement already satisfied: pandas in /usr/local/lib/python3.7/dist-packages (from twint) (1.3.5)\n",
            "Requirement already satisfied: aiohttp_socks in /usr/local/lib/python3.7/dist-packages (from twint) (0.7.1)\n",
            "Requirement already satisfied: schedule in /usr/local/lib/python3.7/dist-packages (from twint) (1.1.0)\n",
            "Requirement already satisfied: geopy in /usr/local/lib/python3.7/dist-packages (from twint) (1.17.0)\n",
            "Requirement already satisfied: fake-useragent in /usr/local/lib/python3.7/dist-packages (from twint) (0.1.11)\n",
            "Requirement already satisfied: googletransx in /usr/local/lib/python3.7/dist-packages (from twint) (2.4.2)\n",
            "Requirement already satisfied: pycares>=4.0.0 in /usr/local/lib/python3.7/dist-packages (from aiodns->twint) (4.1.2)\n",
            "Requirement already satisfied: cffi>=1.5.0 in /usr/local/lib/python3.7/dist-packages (from pycares>=4.0.0->aiodns->twint) (1.15.0)\n",
            "Requirement already satisfied: pycparser in /usr/local/lib/python3.7/dist-packages (from cffi>=1.5.0->pycares>=4.0.0->aiodns->twint) (2.21)\n",
            "Requirement already satisfied: aiosignal>=1.1.2 in /usr/local/lib/python3.7/dist-packages (from aiohttp->twint) (1.2.0)\n",
            "Requirement already satisfied: async-timeout<5.0,>=4.0.0a3 in /usr/local/lib/python3.7/dist-packages (from aiohttp->twint) (4.0.2)\n",
            "Requirement already satisfied: attrs>=17.3.0 in /usr/local/lib/python3.7/dist-packages (from aiohttp->twint) (21.4.0)\n",
            "Requirement already satisfied: yarl<2.0,>=1.0 in /usr/local/lib/python3.7/dist-packages (from aiohttp->twint) (1.7.2)\n",
            "Requirement already satisfied: charset-normalizer<3.0,>=2.0 in /usr/local/lib/python3.7/dist-packages (from aiohttp->twint) (2.0.12)\n",
            "Requirement already satisfied: frozenlist>=1.1.1 in /usr/local/lib/python3.7/dist-packages (from aiohttp->twint) (1.3.0)\n",
            "Requirement already satisfied: multidict<7.0,>=4.5 in /usr/local/lib/python3.7/dist-packages (from aiohttp->twint) (6.0.2)\n",
            "Requirement already satisfied: asynctest==0.13.0 in /usr/local/lib/python3.7/dist-packages (from aiohttp->twint) (0.13.0)\n",
            "Requirement already satisfied: typing-extensions>=3.7.4 in /usr/local/lib/python3.7/dist-packages (from aiohttp->twint) (4.2.0)\n",
            "Requirement already satisfied: idna>=2.0 in /usr/local/lib/python3.7/dist-packages (from yarl<2.0,>=1.0->aiohttp->twint) (2.10)\n",
            "Requirement already satisfied: python-socks[asyncio]<3.0.0,>=2.0.0 in /usr/local/lib/python3.7/dist-packages (from aiohttp_socks->twint) (2.0.3)\n",
            "Requirement already satisfied: elastic-transport<9,>=8 in /usr/local/lib/python3.7/dist-packages (from elasticsearch->twint) (8.1.2)\n",
            "Requirement already satisfied: certifi in /usr/local/lib/python3.7/dist-packages (from elastic-transport<9,>=8->elasticsearch->twint) (2022.5.18.1)\n",
            "Requirement already satisfied: urllib3<2,>=1.26.2 in /usr/local/lib/python3.7/dist-packages (from elastic-transport<9,>=8->elasticsearch->twint) (1.26.9)\n",
            "Requirement already satisfied: geographiclib<2,>=1.49 in /usr/local/lib/python3.7/dist-packages (from geopy->twint) (1.52)\n",
            "Requirement already satisfied: requests in /usr/local/lib/python3.7/dist-packages (from googletransx->twint) (2.28.0)\n",
            "Requirement already satisfied: pytz>=2017.3 in /usr/local/lib/python3.7/dist-packages (from pandas->twint) (2022.1)\n",
            "Requirement already satisfied: numpy>=1.17.3 in /usr/local/lib/python3.7/dist-packages (from pandas->twint) (1.21.6)\n",
            "Requirement already satisfied: python-dateutil>=2.7.3 in /usr/local/lib/python3.7/dist-packages (from pandas->twint) (2.8.2)\n",
            "Requirement already satisfied: six>=1.5 in /usr/local/lib/python3.7/dist-packages (from python-dateutil>=2.7.3->pandas->twint) (1.15.0)\n"
          ]
        }
      ],
      "source": [
        "!pip3 install --user --upgrade git+https://github.com/twintproject/twint.git@origin/master#egg=twint"
      ]
    },
    {
      "cell_type": "code",
      "source": [
        "import nest_asyncio\n",
        "nest_asyncio.apply()"
      ],
      "metadata": {
        "id": "AMQX07UE1JBh"
      },
      "id": "AMQX07UE1JBh",
      "execution_count": 6,
      "outputs": []
    },
    {
      "cell_type": "code",
      "source": [
        "import twint"
      ],
      "metadata": {
        "id": "55B0aDZ41XoN"
      },
      "id": "55B0aDZ41XoN",
      "execution_count": 7,
      "outputs": []
    },
    {
      "cell_type": "code",
      "source": [
        "c = twint.Config()\n",
        "\n",
        "c.Search = ['#jamescharles']\n",
        "c.Limit = 50000\n",
        "c.Store_csv = True\n",
        "c.Since = '2019-01-01'\n",
        "c.Output = \"jamescharles.csv\"\n",
        "\n",
        "twint.run.Search(c)"
      ],
      "metadata": {
        "id": "J7kNXYIf1Yyd",
        "outputId": "c0dd0858-38f5-4898-f2e6-92e671478f17",
        "colab": {
          "base_uri": "https://localhost:8080/"
        }
      },
      "id": "J7kNXYIf1Yyd",
      "execution_count": 9,
      "outputs": [
        {
          "output_type": "stream",
          "name": "stdout",
          "text": [
            "1537389204874768384 2022-06-16 10:58:44 +0000 <arianas_whisk> @daily_simper @burningRed_23 @BluTashiro We have to wait till you're legal 😔 #jamescharles #tonylopez #zoelaverne\n",
            "1537385259490238467 2022-06-16 10:43:03 +0000 <thecelebpost> Jeffree Star says James Charles, Tati Westbrook 'ruined' YouTube beauty community    #JamesCharles #TatiWestbrook #TheCelebPost  https://t.co/esPreGuOw6\n",
            "1536836170696560640 2022-06-14 22:21:10 +0000 <bluewolf_may> James Charles when he sees a kid @jamescharles #jamescharles #flop  https://t.co/2KL5SGyAWc\n",
            "1536497434267947008 2022-06-13 23:55:09 +0000 <tfs_max_> Can somebody explain to me... How is James Charles not cancelled yet? 🤔 #jamescharles\n",
            "1536082338546741248 2022-06-12 20:25:43 +0000 <BarryAllanMcGh1> #FACEBOOKCLAN #TwitterPeeps #Instagram Keep in mind; this is your retirement/Pensions/Investment Portfolios, which are at stake.  #ItIsReal #WakeUp #Beadvised #Zendaya #JamesCharles get too a podium right, now. #100millionpeopleanhour #topofgoogle #inrealtime\n",
            "1536043570481745920 2022-06-12 17:51:40 +0000 <thaRisingLight> \"HAI SISTERS! 🖐🏽\" #StreetFighter6 #StreetFighter #Jamie #jamescharles #Sf6  https://t.co/eSeiYLsGJl\n",
            "1535976031110459392 2022-06-12 13:23:17 +0000 <ManaoRedempta> What is happening sister #jamescharles slayy  https://t.co/6Fx89MPZIi\n",
            "1535953739957288961 2022-06-12 11:54:42 +0000 <MaldiniTackles> Hamilton doing all this with a shit car imagine he had a Honda Civic😍 #LewisHamilton #AzerbaijanGP #Formula1 #JamesCharles\n",
            "1535649320627625984 2022-06-11 15:45:03 +0000 <dailysoapdish> Youtube Beefs: Does Tana Mongeau still hate James Charles in 2022?  https://t.co/fclbI7uzJM #JamesCharles #TanaMarieMongeau #Youtube\n",
            "1535429265084272642 2022-06-11 01:10:38 +0000 <VINCENTLIKESTEA> Today, at 5:30 am I was walking on a street and in the corner of my eye I saw James fucking Charles. I have no hate towards James but he is so fucking ugly. James face is oddly build.#jamescharles #jamescharlesisabitch\n",
            "1535296694958669825 2022-06-10 16:23:51 +0000 <mrboogiethecat> do any sisters want my old sisters hoodies that don’t fit me anymore? i’d be happy to give them to my mutuals bc i’ve outgrown them. just dm me if ur interested  #sisters #sistersapparel @jamescharles #jamescharles\n",
            "1535082182238040064 2022-06-10 02:11:27 +0000 <mopslyman> #helpme #idk #slay #jamescharles\n",
            "1535051964652072960 2022-06-10 00:11:22 +0000 <shower_thgts_co> @vedantb99 @Football__Tweet geman hey sister #jamescharles\n",
            "1535037223996780544 2022-06-09 23:12:48 +0000 <BLT_86> @conciergemaree @AussieDiamonds #TMZ #jamescharles\n",
            "1534792684241489921 2022-06-09 07:01:05 +0000 <Bunnyblue511> Slay the day away and run over the gay! #LGBT #gay #HappyPrideMonth #milliebobbybrown #jamescharles  https://t.co/GhZ0Kkrws4\n",
            "1534528874205282307 2022-06-08 13:32:48 +0000 <CartierClass> #JamesCharles this you?\n",
            "1534377119379165184 2022-06-08 03:29:47 +0000 <Lisa4942000> So good I had to share! Check out all the items I'm loving on @Poshmarkapp #poshmark #fashion #style #shopmycloset #converse #jamescharles:  https://t.co/ro3wzDRiTT  https://t.co/4F9iJFgSX7\n",
            "1534375861109108738 2022-06-08 03:24:47 +0000 <FaxsFun> Alien VS. Predator but the predator is James Charles  #jamescharles\n",
            "1534176455432843264 2022-06-07 14:12:25 +0000 <TheRaeganYoung> @jamescharles #jamescharles #jamescharlesdrawing  https://t.co/VTtBNMvCTD\n",
            "1534105846602690560 2022-06-07 09:31:50 +0000 <eastwest05> James Charles, james Charles leaked, leaked video, viral, trending, jamescharles #jamescharles, leaked, blackchully, blackchulllyleaked, blackchully 3   https://t.co/6KGG25bmoK\n",
            "1533981911340593152 2022-06-07 01:19:22 +0000 <BarryAllanMcGh1>  https://t.co/LaBfPmego1 #JamesCharles #makeup #STAT #MeganFox #call #AnnaWintour #executive #editor #VogueMagazine \"When finished.\" - Ms. Wintour  Barry: 🤫  Tweets Provided by New Universe Productions...A F.A.M.E Company. #twitrunderworld #100millionpeopleanhour #topofgoogle\n",
            "1533971460842299393 2022-06-07 00:37:50 +0000 <kxwoodsrecords> I forgot about him….this just can on my Fyp I’m scared 🤠 #fyp #jamescharles #TikTok #viral  https://t.co/t4KDJz2gJu\n",
            "1533970037945802752 2022-06-07 00:32:11 +0000 <DjAllah8> @chargetawaycar We get it girl, make some random backstory to make everyone believe you #typical. If you were a true Gallagher fan, you would’ve of used a capital for his name but as looking at this tweet YOU DID NOT. #fakefan #jamescharles. We stand for Aiden and not you #clown\n",
            "1533820051912069121 2022-06-06 14:36:12 +0000 <MountainMamaF> @MichaelBePetty I just want to know who this guy is? Weirdo older man serving the young boys drinks at #jamescharles house? Mmmkay  https://t.co/xi9z0guOF4\n",
            "1533628869126791168 2022-06-06 01:56:30 +0000 <theBEEzneez_> A woman should be 2 things:  ☝🏽Who &amp; ✌🏽What she wants 💋✨ • • #beauty #glam #makeup #looks #ilmakiage #fenty #lauramercier #jamescharles #becca #mac #morphe #luvmehair #shein #explore #foryou #fyp #viral  https://t.co/sDkrNuPZv6\n",
            "1533422372115599366 2022-06-05 12:15:57 +0000 <Ulysses49496556> @elonmusk I love you musk and that’s what matter. In musk I trust! #jamescharles\n",
            "1533086909211152385 2022-06-04 14:02:57 +0000 <haunted_crime> I know he's a p3d0 but #JamesCharles losing 36mil followers on TikTok in 8 hours has me shook. (Literally he woke up with 0 followers)\n",
            "1533080614638915585 2022-06-04 13:37:56 +0000 <bucco_kalie> It’s really great to see other celebrities chopping their own cucumbers 🥒 #Cucumber #jamescharles #celebscutcucumbers  https://t.co/ORTMFY9jM3\n",
            "[!] No more data! Scraping will stop now.\n",
            "found 0 deleted tweets in this search.\n"
          ]
        }
      ]
    },
    {
      "cell_type": "code",
      "source": [
        ""
      ],
      "metadata": {
        "id": "YZ3k9SFP1bR3"
      },
      "id": "YZ3k9SFP1bR3",
      "execution_count": null,
      "outputs": []
    }
  ],
  "metadata": {
    "kernelspec": {
      "display_name": "Python 3",
      "language": "python",
      "name": "python3"
    },
    "language_info": {
      "codemirror_mode": {
        "name": "ipython",
        "version": 3
      },
      "file_extension": ".py",
      "mimetype": "text/x-python",
      "name": "python",
      "nbconvert_exporter": "python",
      "pygments_lexer": "ipython3",
      "version": "3.8.8"
    },
    "colab": {
      "name": "Twitter Sentiment Analysis.ipynb",
      "provenance": []
    }
  },
  "nbformat": 4,
  "nbformat_minor": 5
}