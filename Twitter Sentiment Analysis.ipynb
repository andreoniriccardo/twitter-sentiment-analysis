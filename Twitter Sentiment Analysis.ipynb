{
  "cells": [
    {
      "cell_type": "code",
      "source": [
        "# Install Libraries\n",
        "!pip install textblob\n",
        "!pip install tweepy"
      ],
      "metadata": {
        "id": "fqGl6xQ63V2b",
        "colab": {
          "base_uri": "https://localhost:8080/"
        },
        "outputId": "03209ed1-b73b-49cc-b177-5d51e959a10d"
      },
      "id": "fqGl6xQ63V2b",
      "execution_count": 1,
      "outputs": [
        {
          "output_type": "stream",
          "name": "stdout",
          "text": [
            "Looking in indexes: https://pypi.org/simple, https://us-python.pkg.dev/colab-wheels/public/simple/\n",
            "Requirement already satisfied: textblob in /usr/local/lib/python3.7/dist-packages (0.15.3)\n",
            "Requirement already satisfied: nltk>=3.1 in /usr/local/lib/python3.7/dist-packages (from textblob) (3.7)\n",
            "Requirement already satisfied: click in /usr/local/lib/python3.7/dist-packages (from nltk>=3.1->textblob) (7.1.2)\n",
            "Requirement already satisfied: regex>=2021.8.3 in /usr/local/lib/python3.7/dist-packages (from nltk>=3.1->textblob) (2022.6.2)\n",
            "Requirement already satisfied: joblib in /usr/local/lib/python3.7/dist-packages (from nltk>=3.1->textblob) (1.1.0)\n",
            "Requirement already satisfied: tqdm in /usr/local/lib/python3.7/dist-packages (from nltk>=3.1->textblob) (4.64.0)\n",
            "Looking in indexes: https://pypi.org/simple, https://us-python.pkg.dev/colab-wheels/public/simple/\n",
            "Requirement already satisfied: tweepy in /usr/local/lib/python3.7/dist-packages (3.10.0)\n",
            "Requirement already satisfied: six>=1.10.0 in /usr/local/lib/python3.7/dist-packages (from tweepy) (1.15.0)\n",
            "Requirement already satisfied: requests-oauthlib>=0.7.0 in /usr/local/lib/python3.7/dist-packages (from tweepy) (1.3.1)\n",
            "Requirement already satisfied: requests[socks]>=2.11.1 in /usr/local/lib/python3.7/dist-packages (from tweepy) (2.23.0)\n",
            "Requirement already satisfied: oauthlib>=3.0.0 in /usr/local/lib/python3.7/dist-packages (from requests-oauthlib>=0.7.0->tweepy) (3.2.0)\n",
            "Requirement already satisfied: urllib3!=1.25.0,!=1.25.1,<1.26,>=1.21.1 in /usr/local/lib/python3.7/dist-packages (from requests[socks]>=2.11.1->tweepy) (1.24.3)\n",
            "Requirement already satisfied: chardet<4,>=3.0.2 in /usr/local/lib/python3.7/dist-packages (from requests[socks]>=2.11.1->tweepy) (3.0.4)\n",
            "Requirement already satisfied: idna<3,>=2.5 in /usr/local/lib/python3.7/dist-packages (from requests[socks]>=2.11.1->tweepy) (2.10)\n",
            "Requirement already satisfied: certifi>=2017.4.17 in /usr/local/lib/python3.7/dist-packages (from requests[socks]>=2.11.1->tweepy) (2022.6.15)\n",
            "Requirement already satisfied: PySocks!=1.5.7,>=1.5.6 in /usr/local/lib/python3.7/dist-packages (from requests[socks]>=2.11.1->tweepy) (1.7.1)\n"
          ]
        }
      ]
    },
    {
      "cell_type": "code",
      "source": [
        "import pandas as pd\n",
        "import numpy as np\n",
        "import tweepy\n",
        "from textblob import TextBlob\n",
        "import nltk\n",
        "nltk.download('vader_lexicon')\n",
        "from nltk.sentiment.vader import SentimentIntensityAnalyzer\n",
        "import matplotlib.pyplot as plt\n",
        "import re"
      ],
      "metadata": {
        "colab": {
          "base_uri": "https://localhost:8080/"
        },
        "id": "riZSrdjzcSGR",
        "outputId": "b4afabc8-1160-48b2-dd1d-fc6bc0079399"
      },
      "id": "riZSrdjzcSGR",
      "execution_count": 67,
      "outputs": [
        {
          "output_type": "stream",
          "name": "stderr",
          "text": [
            "[nltk_data] Downloading package vader_lexicon to /root/nltk_data...\n",
            "[nltk_data]   Package vader_lexicon is already up-to-date!\n"
          ]
        }
      ]
    },
    {
      "cell_type": "code",
      "source": [
        "# Authentication\n",
        "consumer_key = \"oYiJRI9EDdUTXdK7gtjGHIUbY\"\n",
        "consumer_secret = \"qL6BGUq3EPXkLMTS0XWiUvDrLQb5S6ISKuWzeSBgADalUCSrTr\"\n",
        "#accessToken = \"1543856420185161728-w3tLGDH6pCuPf3heoBI8k42SOYU0w4\"\n",
        "#accessTokenSecret = \"yKcz3LIdwPWbOg4fssaYOTiNaEGhCY419sVUAH5HJjk66\""
      ],
      "metadata": {
        "id": "gJuHbzQdcxWN"
      },
      "id": "gJuHbzQdcxWN",
      "execution_count": 19,
      "outputs": []
    },
    {
      "cell_type": "code",
      "source": [
        "callback_uri = 'oob'"
      ],
      "metadata": {
        "id": "q_BShQoekCxI"
      },
      "id": "q_BShQoekCxI",
      "execution_count": 20,
      "outputs": []
    },
    {
      "cell_type": "code",
      "source": [
        "# to authenticate the application\n",
        "auth = tweepy.OAuthHandler(consumer_key, consumer_secret, callback_uri) \n",
        "redirect_url = auth.get_authorization_url()\n",
        "print(redirect_url)\n",
        "#auth.set_access_token(accessToken, accessTokenSecret)\n",
        "# api = tweepy.API(auth)"
      ],
      "metadata": {
        "colab": {
          "base_uri": "https://localhost:8080/"
        },
        "id": "zK98caCvc-B6",
        "outputId": "06fb6c8b-719a-4e69-800e-076b61d1d339"
      },
      "id": "zK98caCvc-B6",
      "execution_count": 24,
      "outputs": [
        {
          "output_type": "stream",
          "name": "stdout",
          "text": [
            "https://api.twitter.com/oauth/authorize?oauth_token=t-xlIAAAAAABecqyAAABgciTieo\n"
          ]
        }
      ]
    },
    {
      "cell_type": "code",
      "source": [
        "import webbrowser\n",
        "webbrowser.open(redirect_url)"
      ],
      "metadata": {
        "colab": {
          "base_uri": "https://localhost:8080/"
        },
        "id": "rK4wrjpekQ_1",
        "outputId": "40dc10fd-5ce3-476d-ceb7-467bc1d55c62"
      },
      "id": "rK4wrjpekQ_1",
      "execution_count": 26,
      "outputs": [
        {
          "output_type": "execute_result",
          "data": {
            "text/plain": [
              "False"
            ]
          },
          "metadata": {},
          "execution_count": 26
        }
      ]
    },
    {
      "cell_type": "code",
      "source": [
        "user_pin_input = input(\"What's the pin value? \")"
      ],
      "metadata": {
        "colab": {
          "base_uri": "https://localhost:8080/"
        },
        "id": "ZvbepRt_ldIF",
        "outputId": "20db11f9-79c0-4994-b746-f84171aaec36"
      },
      "id": "ZvbepRt_ldIF",
      "execution_count": 29,
      "outputs": [
        {
          "name": "stdout",
          "output_type": "stream",
          "text": [
            "What's the pin value? 2206350\n"
          ]
        }
      ]
    },
    {
      "cell_type": "code",
      "source": [
        "auth.get_access_token(user_pin_input)"
      ],
      "metadata": {
        "colab": {
          "base_uri": "https://localhost:8080/"
        },
        "id": "56WMaItPeKcx",
        "outputId": "1f2ab477-1eab-45ac-c31d-f660ad0a5a84"
      },
      "id": "56WMaItPeKcx",
      "execution_count": 30,
      "outputs": [
        {
          "output_type": "execute_result",
          "data": {
            "text/plain": [
              "('1543856420185161728-w3tLGDH6pCuPf3heoBI8k42SOYU0w4',\n",
              " 'yKcz3LIdwPWbOg4fssaYOTiNaEGhCY419sVUAH5HJjk66')"
            ]
          },
          "metadata": {},
          "execution_count": 30
        }
      ]
    },
    {
      "cell_type": "code",
      "source": [
        "print(auth.access_token, auth.access_token_secret)"
      ],
      "metadata": {
        "colab": {
          "base_uri": "https://localhost:8080/"
        },
        "id": "MEo0jz6UhxOe",
        "outputId": "81f3734e-1f87-4a6a-a18d-6c4228655d06"
      },
      "id": "MEo0jz6UhxOe",
      "execution_count": 31,
      "outputs": [
        {
          "output_type": "stream",
          "name": "stdout",
          "text": [
            "1543856420185161728-w3tLGDH6pCuPf3heoBI8k42SOYU0w4 yKcz3LIdwPWbOg4fssaYOTiNaEGhCY419sVUAH5HJjk66\n"
          ]
        }
      ]
    },
    {
      "cell_type": "code",
      "source": [
        "api = tweepy.API(auth)"
      ],
      "metadata": {
        "id": "l6VXPzPXhyTs"
      },
      "id": "l6VXPzPXhyTs",
      "execution_count": 32,
      "outputs": []
    },
    {
      "cell_type": "code",
      "source": [
        "me = api.me()"
      ],
      "metadata": {
        "id": "gObeZl5Gh1FZ"
      },
      "id": "gObeZl5Gh1FZ",
      "execution_count": 37,
      "outputs": []
    },
    {
      "cell_type": "code",
      "source": [
        "print(me.screen_name)"
      ],
      "metadata": {
        "colab": {
          "base_uri": "https://localhost:8080/"
        },
        "id": "l-Dsxtasm2nw",
        "outputId": "f2f5e876-2b52-4387-ca54-f6ec7b3c812b"
      },
      "id": "l-Dsxtasm2nw",
      "execution_count": 39,
      "outputs": [
        {
          "output_type": "stream",
          "name": "stdout",
          "text": [
            "r_andreoni0\n"
          ]
        }
      ]
    },
    {
      "cell_type": "code",
      "source": [
        "tweets = tweepy.Cursor(api.search, q='lockdown').items(5)"
      ],
      "metadata": {
        "id": "5Ec8u6-vm49H"
      },
      "id": "5Ec8u6-vm49H",
      "execution_count": 49,
      "outputs": []
    },
    {
      "cell_type": "code",
      "source": [
        "for i in tweets:\n",
        "  print(i.text)"
      ],
      "metadata": {
        "id": "eHCwD9FkBEla",
        "outputId": "c1bf7914-4e99-450b-a9e6-0d4adcc0eb3b",
        "colab": {
          "base_uri": "https://localhost:8080/"
        }
      },
      "id": "eHCwD9FkBEla",
      "execution_count": 50,
      "outputs": [
        {
          "output_type": "stream",
          "name": "stdout",
          "text": [
            "RT @ssppuudd1954: Can anyone find any mention anywhere in the media of Starmer's Durham lockdown drinks party? Anyone? Sounds like an injun…\n",
            "RT @AoxiPRNew: https://t.co/2hjPrGfx9B\n",
            "RT @WuWu75115054: @songpinganq Lockdown ( for weeks to months )in China 🇨🇳 means  you may starve to death, so these people crawling under t…\n",
            "RT @Hiroshi64788628: How Did Pithani manage to Find a Key maker During LockDown on Sunday ?\n",
            "\n",
            "CBI Make SSRJustice Priority\n",
            "RT @vibione: This photo clicked on July 02 2022. This is the so called Aarey carshed. @Dev_Fadnavis doesn't understand nature. During the l…\n"
          ]
        }
      ]
    },
    {
      "cell_type": "code",
      "source": [
        "#Sentiment Analysis\n",
        "\n",
        "def percentage(part,whole):\n",
        "    return 100 * float(part)/float(whole) \n",
        "\n",
        "keyword = input(\"Please enter keyword or hashtag to search: \")\n",
        "noOfTweet = int(input (\"Please enter how many tweets to analyze: \"))\n",
        "\n",
        "\n",
        "tweets = tweepy.Cursor(api.search, q=keyword).items(noOfTweet)\n",
        "positive  = 0\n",
        "negative = 0\n",
        "neutral = 0\n",
        "polarity = 0\n",
        "tweet_list = []\n",
        "neutral_list = []\n",
        "negative_list = []\n",
        "positive_list = []\n",
        "\n",
        "for tweet in tweets:\n",
        "    \n",
        "    #print(tweet.text)\n",
        "    tweet_list.append(tweet.text)\n",
        "    analysis = TextBlob(tweet.text)\n",
        "    score = SentimentIntensityAnalyzer().polarity_scores(tweet.text)\n",
        "    neg = score['neg']\n",
        "    neu = score['neu']\n",
        "    pos = score['pos']\n",
        "    comp = score['compound']\n",
        "    polarity += analysis.sentiment.polarity\n",
        "    \n",
        "    if neg > pos:\n",
        "        negative_list.append(tweet.text)\n",
        "        negative += 1\n",
        "\n",
        "    elif pos > neg:\n",
        "        positive_list.append(tweet.text)\n",
        "        positive += 1\n",
        "    \n",
        "    elif pos == neg:\n",
        "        neutral_list.append(tweet.text)\n",
        "        neutral += 1\n",
        "\n",
        "positive = percentage(positive, noOfTweet)\n",
        "negative = percentage(negative, noOfTweet)\n",
        "neutral = percentage(neutral, noOfTweet)\n",
        "polarity = percentage(polarity, noOfTweet)\n",
        "positive = format(positive, '.1f')\n",
        "negative = format(negative, '.1f')\n",
        "neutral = format(neutral, '.1f')"
      ],
      "metadata": {
        "id": "CWtQCURWBIwW",
        "outputId": "ec347fa3-1882-4c2a-e941-47c5f14a0e0f",
        "colab": {
          "base_uri": "https://localhost:8080/"
        }
      },
      "id": "CWtQCURWBIwW",
      "execution_count": 55,
      "outputs": [
        {
          "name": "stdout",
          "output_type": "stream",
          "text": [
            "Please enter keyword or hashtag to search: lockdown\n",
            "Please enter how many tweets to analyze: 2500\n"
          ]
        }
      ]
    },
    {
      "cell_type": "code",
      "source": [
        "#Number of Tweets (Total, Positive, Negative, Neutral)\n",
        "tweet_list = pd.DataFrame(tweet_list)\n",
        "neutral_list = pd.DataFrame(neutral_list)\n",
        "negative_list = pd.DataFrame(negative_list)\n",
        "positive_list = pd.DataFrame(positive_list)\n",
        "print(\"total number: \",len(tweet_list))\n",
        "print(\"positive number: \",len(positive_list))\n",
        "print(\"negative number: \", len(negative_list))\n",
        "print(\"neutral number: \",len(neutral_list))"
      ],
      "metadata": {
        "id": "av9yWz4VDDAh",
        "outputId": "fcb35490-53ff-4c75-ae9a-7aa189c3db28",
        "colab": {
          "base_uri": "https://localhost:8080/"
        }
      },
      "id": "av9yWz4VDDAh",
      "execution_count": 58,
      "outputs": [
        {
          "output_type": "stream",
          "name": "stdout",
          "text": [
            "total number:  2500\n",
            "positive number:  592\n",
            "negative number:  741\n",
            "neutral number:  1167\n"
          ]
        }
      ]
    },
    {
      "cell_type": "code",
      "source": [
        "tweet_list"
      ],
      "metadata": {
        "id": "XSeYFXx6D7ik",
        "outputId": "e2b80898-f084-46df-dd77-1c7898f53fa1",
        "colab": {
          "base_uri": "https://localhost:8080/",
          "height": 424
        }
      },
      "id": "XSeYFXx6D7ik",
      "execution_count": 59,
      "outputs": [
        {
          "output_type": "execute_result",
          "data": {
            "text/plain": [
              "                                                      0\n",
              "0        @AngolaWorldWide Lockdown had us acting atoa😭😭\n",
              "1     RT @keffals: @ContraPoints it's actually insan...\n",
              "2     @ProfSpada @thelucyjohnston @GBNEWS @JDaviesPh...\n",
              "3     Pyongyang has lifted its lockdown, allowing ci...\n",
              "4     RT @ChangJiao4: This is so sad #ZeroCovid #sha...\n",
              "...                                                 ...\n",
              "2495  RT @ReicherStephen: Covid\\nIt's like crossing ...\n",
              "2496  RT @engenestrmteam: 🎤🎸 ATTENTION ENGENES!\\nPUT...\n",
              "2497  RT @Bangzz_world: 2020 was so promising okes, ...\n",
              "2498  RT @Whitei94123314: Have you interviewed the m...\n",
              "2499  RT @jayseonggf: LET'S HAVE ENHYPEN LOCKDOWN TO...\n",
              "\n",
              "[2500 rows x 1 columns]"
            ],
            "text/html": [
              "\n",
              "  <div id=\"df-e569173d-ce43-4e92-b524-83ff19a2b0a8\">\n",
              "    <div class=\"colab-df-container\">\n",
              "      <div>\n",
              "<style scoped>\n",
              "    .dataframe tbody tr th:only-of-type {\n",
              "        vertical-align: middle;\n",
              "    }\n",
              "\n",
              "    .dataframe tbody tr th {\n",
              "        vertical-align: top;\n",
              "    }\n",
              "\n",
              "    .dataframe thead th {\n",
              "        text-align: right;\n",
              "    }\n",
              "</style>\n",
              "<table border=\"1\" class=\"dataframe\">\n",
              "  <thead>\n",
              "    <tr style=\"text-align: right;\">\n",
              "      <th></th>\n",
              "      <th>0</th>\n",
              "    </tr>\n",
              "  </thead>\n",
              "  <tbody>\n",
              "    <tr>\n",
              "      <th>0</th>\n",
              "      <td>@AngolaWorldWide Lockdown had us acting atoa😭😭</td>\n",
              "    </tr>\n",
              "    <tr>\n",
              "      <th>1</th>\n",
              "      <td>RT @keffals: @ContraPoints it's actually insan...</td>\n",
              "    </tr>\n",
              "    <tr>\n",
              "      <th>2</th>\n",
              "      <td>@ProfSpada @thelucyjohnston @GBNEWS @JDaviesPh...</td>\n",
              "    </tr>\n",
              "    <tr>\n",
              "      <th>3</th>\n",
              "      <td>Pyongyang has lifted its lockdown, allowing ci...</td>\n",
              "    </tr>\n",
              "    <tr>\n",
              "      <th>4</th>\n",
              "      <td>RT @ChangJiao4: This is so sad #ZeroCovid #sha...</td>\n",
              "    </tr>\n",
              "    <tr>\n",
              "      <th>...</th>\n",
              "      <td>...</td>\n",
              "    </tr>\n",
              "    <tr>\n",
              "      <th>2495</th>\n",
              "      <td>RT @ReicherStephen: Covid\\nIt's like crossing ...</td>\n",
              "    </tr>\n",
              "    <tr>\n",
              "      <th>2496</th>\n",
              "      <td>RT @engenestrmteam: 🎤🎸 ATTENTION ENGENES!\\nPUT...</td>\n",
              "    </tr>\n",
              "    <tr>\n",
              "      <th>2497</th>\n",
              "      <td>RT @Bangzz_world: 2020 was so promising okes, ...</td>\n",
              "    </tr>\n",
              "    <tr>\n",
              "      <th>2498</th>\n",
              "      <td>RT @Whitei94123314: Have you interviewed the m...</td>\n",
              "    </tr>\n",
              "    <tr>\n",
              "      <th>2499</th>\n",
              "      <td>RT @jayseonggf: LET'S HAVE ENHYPEN LOCKDOWN TO...</td>\n",
              "    </tr>\n",
              "  </tbody>\n",
              "</table>\n",
              "<p>2500 rows × 1 columns</p>\n",
              "</div>\n",
              "      <button class=\"colab-df-convert\" onclick=\"convertToInteractive('df-e569173d-ce43-4e92-b524-83ff19a2b0a8')\"\n",
              "              title=\"Convert this dataframe to an interactive table.\"\n",
              "              style=\"display:none;\">\n",
              "        \n",
              "  <svg xmlns=\"http://www.w3.org/2000/svg\" height=\"24px\"viewBox=\"0 0 24 24\"\n",
              "       width=\"24px\">\n",
              "    <path d=\"M0 0h24v24H0V0z\" fill=\"none\"/>\n",
              "    <path d=\"M18.56 5.44l.94 2.06.94-2.06 2.06-.94-2.06-.94-.94-2.06-.94 2.06-2.06.94zm-11 1L8.5 8.5l.94-2.06 2.06-.94-2.06-.94L8.5 2.5l-.94 2.06-2.06.94zm10 10l.94 2.06.94-2.06 2.06-.94-2.06-.94-.94-2.06-.94 2.06-2.06.94z\"/><path d=\"M17.41 7.96l-1.37-1.37c-.4-.4-.92-.59-1.43-.59-.52 0-1.04.2-1.43.59L10.3 9.45l-7.72 7.72c-.78.78-.78 2.05 0 2.83L4 21.41c.39.39.9.59 1.41.59.51 0 1.02-.2 1.41-.59l7.78-7.78 2.81-2.81c.8-.78.8-2.07 0-2.86zM5.41 20L4 18.59l7.72-7.72 1.47 1.35L5.41 20z\"/>\n",
              "  </svg>\n",
              "      </button>\n",
              "      \n",
              "  <style>\n",
              "    .colab-df-container {\n",
              "      display:flex;\n",
              "      flex-wrap:wrap;\n",
              "      gap: 12px;\n",
              "    }\n",
              "\n",
              "    .colab-df-convert {\n",
              "      background-color: #E8F0FE;\n",
              "      border: none;\n",
              "      border-radius: 50%;\n",
              "      cursor: pointer;\n",
              "      display: none;\n",
              "      fill: #1967D2;\n",
              "      height: 32px;\n",
              "      padding: 0 0 0 0;\n",
              "      width: 32px;\n",
              "    }\n",
              "\n",
              "    .colab-df-convert:hover {\n",
              "      background-color: #E2EBFA;\n",
              "      box-shadow: 0px 1px 2px rgba(60, 64, 67, 0.3), 0px 1px 3px 1px rgba(60, 64, 67, 0.15);\n",
              "      fill: #174EA6;\n",
              "    }\n",
              "\n",
              "    [theme=dark] .colab-df-convert {\n",
              "      background-color: #3B4455;\n",
              "      fill: #D2E3FC;\n",
              "    }\n",
              "\n",
              "    [theme=dark] .colab-df-convert:hover {\n",
              "      background-color: #434B5C;\n",
              "      box-shadow: 0px 1px 3px 1px rgba(0, 0, 0, 0.15);\n",
              "      filter: drop-shadow(0px 1px 2px rgba(0, 0, 0, 0.3));\n",
              "      fill: #FFFFFF;\n",
              "    }\n",
              "  </style>\n",
              "\n",
              "      <script>\n",
              "        const buttonEl =\n",
              "          document.querySelector('#df-e569173d-ce43-4e92-b524-83ff19a2b0a8 button.colab-df-convert');\n",
              "        buttonEl.style.display =\n",
              "          google.colab.kernel.accessAllowed ? 'block' : 'none';\n",
              "\n",
              "        async function convertToInteractive(key) {\n",
              "          const element = document.querySelector('#df-e569173d-ce43-4e92-b524-83ff19a2b0a8');\n",
              "          const dataTable =\n",
              "            await google.colab.kernel.invokeFunction('convertToInteractive',\n",
              "                                                     [key], {});\n",
              "          if (!dataTable) return;\n",
              "\n",
              "          const docLinkHtml = 'Like what you see? Visit the ' +\n",
              "            '<a target=\"_blank\" href=https://colab.research.google.com/notebooks/data_table.ipynb>data table notebook</a>'\n",
              "            + ' to learn more about interactive tables.';\n",
              "          element.innerHTML = '';\n",
              "          dataTable['output_type'] = 'display_data';\n",
              "          await google.colab.output.renderOutput(dataTable, element);\n",
              "          const docLink = document.createElement('div');\n",
              "          docLink.innerHTML = docLinkHtml;\n",
              "          element.appendChild(docLink);\n",
              "        }\n",
              "      </script>\n",
              "    </div>\n",
              "  </div>\n",
              "  "
            ]
          },
          "metadata": {},
          "execution_count": 59
        }
      ]
    },
    {
      "cell_type": "code",
      "source": [
        "#Creating PieCart\n",
        "\n",
        "labels = ['Positive ['+str(positive)+'%]' , 'Neutral ['+str(neutral)+'%]','Negative ['+str(negative)+'%]']\n",
        "sizes = [positive, neutral, negative]\n",
        "colors = ['yellowgreen', 'blue','red']\n",
        "patches, texts = plt.pie(sizes,colors=colors, startangle=90)\n",
        "plt.style.use('default')\n",
        "plt.legend(labels)\n",
        "plt.title(\"Sentiment Analysis Result for keyword=  \"+keyword+\"\" )\n",
        "plt.axis('equal')\n",
        "plt.show()"
      ],
      "metadata": {
        "id": "bFZIiD_xEG1o",
        "outputId": "84424642-ff57-44be-aabf-ece95d88a62a",
        "colab": {
          "base_uri": "https://localhost:8080/",
          "height": 264
        }
      },
      "id": "bFZIiD_xEG1o",
      "execution_count": 61,
      "outputs": [
        {
          "output_type": "display_data",
          "data": {
            "text/plain": [
              "<Figure size 432x288 with 1 Axes>"
            ],
            "image/png": "[encoded data removed]"
          },
          "metadata": {}
        }
      ]
    },
    {
      "cell_type": "code",
      "source": [
        "tweet_list.drop_duplicates(inplace = True)"
      ],
      "metadata": {
        "id": "7CFrKPD3EaOI"
      },
      "id": "7CFrKPD3EaOI",
      "execution_count": 63,
      "outputs": []
    },
    {
      "cell_type": "code",
      "source": [
        "tweet_list.shape"
      ],
      "metadata": {
        "id": "9jPPex-_Eass",
        "outputId": "f56df2d1-2290-4121-a53a-28b9cd487962",
        "colab": {
          "base_uri": "https://localhost:8080/"
        }
      },
      "id": "9jPPex-_Eass",
      "execution_count": 64,
      "outputs": [
        {
          "output_type": "execute_result",
          "data": {
            "text/plain": [
              "(1336, 1)"
            ]
          },
          "metadata": {},
          "execution_count": 64
        }
      ]
    },
    {
      "cell_type": "code",
      "source": [
        "#Cleaning Text (RT, Punctuation etc)\n",
        "\n",
        "#Creating new dataframe and new features\n",
        "tw_list = pd.DataFrame(tweet_list)\n",
        "tw_list[\"text\"] = tw_list[0]\n",
        "\n",
        "#Removing RT, Punctuation etc\n",
        "remove_rt = lambda x: re.sub('RT @\\w+: ',\" \",x)\n",
        "rt = lambda x: re.sub(\"(@[A-Za-z0-9]+)|([^0-9A-Za-z \\t])|(\\w+:\\/\\/\\S+)\",\" \",x)\n",
        "tw_list[\"text\"] = tw_list.text.map(remove_rt).map(rt)\n",
        "tw_list[\"text\"] = tw_list.text.str.lower()\n",
        "tw_list.head(10)"
      ],
      "metadata": {
        "id": "wjQcnX75Ei9v",
        "outputId": "c332a3d6-9ae7-48e8-a9fb-260836708426",
        "colab": {
          "base_uri": "https://localhost:8080/",
          "height": 363
        }
      },
      "id": "wjQcnX75Ei9v",
      "execution_count": 68,
      "outputs": [
        {
          "output_type": "execute_result",
          "data": {
            "text/plain": [
              "                                                   0  \\\n",
              "0     @AngolaWorldWide Lockdown had us acting atoa😭😭   \n",
              "1  RT @keffals: @ContraPoints it's actually insan...   \n",
              "2  @ProfSpada @thelucyjohnston @GBNEWS @JDaviesPh...   \n",
              "3  Pyongyang has lifted its lockdown, allowing ci...   \n",
              "4  RT @ChangJiao4: This is so sad #ZeroCovid #sha...   \n",
              "5  Laura and I first met across a zoom room durin...   \n",
              "6  @GavinNewsom Keep running your mouth about FL ...   \n",
              "7  RT @Groot66: \"Ungrateful\"? That's a pathetic l...   \n",
              "8  RT @Harrison1Ron: There are rumours that Starm...   \n",
              "9  RT @CosmopoCon: @thehill Floridians will see t...   \n",
              "\n",
              "                                                text  \n",
              "0                      lockdown had us acting atoa    \n",
              "1     it s actually insane how rates are still hi...  \n",
              "2          big pharma once again benefitting from...  \n",
              "3  pyongyang has lifted its lockdown  allowing ci...  \n",
              "4   this is so sad  zerocovid  shanghai  chinaloc...  \n",
              "5  laura and i first met across a zoom room durin...  \n",
              "6    keep running your mouth about fl as californ...  \n",
              "7    ungrateful   that s a pathetic line of argum...  \n",
              "8   there are rumours that starmer raynar and foy...  \n",
              "9     floridians will see through the extraordina...  "
            ],
            "text/html": [
              "\n",
              "  <div id=\"df-5b0fa618-7de0-4bbd-b3c9-eaadecf99661\">\n",
              "    <div class=\"colab-df-container\">\n",
              "      <div>\n",
              "<style scoped>\n",
              "    .dataframe tbody tr th:only-of-type {\n",
              "        vertical-align: middle;\n",
              "    }\n",
              "\n",
              "    .dataframe tbody tr th {\n",
              "        vertical-align: top;\n",
              "    }\n",
              "\n",
              "    .dataframe thead th {\n",
              "        text-align: right;\n",
              "    }\n",
              "</style>\n",
              "<table border=\"1\" class=\"dataframe\">\n",
              "  <thead>\n",
              "    <tr style=\"text-align: right;\">\n",
              "      <th></th>\n",
              "      <th>0</th>\n",
              "      <th>text</th>\n",
              "    </tr>\n",
              "  </thead>\n",
              "  <tbody>\n",
              "    <tr>\n",
              "      <th>0</th>\n",
              "      <td>@AngolaWorldWide Lockdown had us acting atoa😭😭</td>\n",
              "      <td>lockdown had us acting atoa</td>\n",
              "    </tr>\n",
              "    <tr>\n",
              "      <th>1</th>\n",
              "      <td>RT @keffals: @ContraPoints it's actually insan...</td>\n",
              "      <td>it s actually insane how rates are still hi...</td>\n",
              "    </tr>\n",
              "    <tr>\n",
              "      <th>2</th>\n",
              "      <td>@ProfSpada @thelucyjohnston @GBNEWS @JDaviesPh...</td>\n",
              "      <td>big pharma once again benefitting from...</td>\n",
              "    </tr>\n",
              "    <tr>\n",
              "      <th>3</th>\n",
              "      <td>Pyongyang has lifted its lockdown, allowing ci...</td>\n",
              "      <td>pyongyang has lifted its lockdown  allowing ci...</td>\n",
              "    </tr>\n",
              "    <tr>\n",
              "      <th>4</th>\n",
              "      <td>RT @ChangJiao4: This is so sad #ZeroCovid #sha...</td>\n",
              "      <td>this is so sad  zerocovid  shanghai  chinaloc...</td>\n",
              "    </tr>\n",
              "    <tr>\n",
              "      <th>5</th>\n",
              "      <td>Laura and I first met across a zoom room durin...</td>\n",
              "      <td>laura and i first met across a zoom room durin...</td>\n",
              "    </tr>\n",
              "    <tr>\n",
              "      <th>6</th>\n",
              "      <td>@GavinNewsom Keep running your mouth about FL ...</td>\n",
              "      <td>keep running your mouth about fl as californ...</td>\n",
              "    </tr>\n",
              "    <tr>\n",
              "      <th>7</th>\n",
              "      <td>RT @Groot66: \"Ungrateful\"? That's a pathetic l...</td>\n",
              "      <td>ungrateful   that s a pathetic line of argum...</td>\n",
              "    </tr>\n",
              "    <tr>\n",
              "      <th>8</th>\n",
              "      <td>RT @Harrison1Ron: There are rumours that Starm...</td>\n",
              "      <td>there are rumours that starmer raynar and foy...</td>\n",
              "    </tr>\n",
              "    <tr>\n",
              "      <th>9</th>\n",
              "      <td>RT @CosmopoCon: @thehill Floridians will see t...</td>\n",
              "      <td>floridians will see through the extraordina...</td>\n",
              "    </tr>\n",
              "  </tbody>\n",
              "</table>\n",
              "</div>\n",
              "      <button class=\"colab-df-convert\" onclick=\"convertToInteractive('df-5b0fa618-7de0-4bbd-b3c9-eaadecf99661')\"\n",
              "              title=\"Convert this dataframe to an interactive table.\"\n",
              "              style=\"display:none;\">\n",
              "        \n",
              "  <svg xmlns=\"http://www.w3.org/2000/svg\" height=\"24px\"viewBox=\"0 0 24 24\"\n",
              "       width=\"24px\">\n",
              "    <path d=\"M0 0h24v24H0V0z\" fill=\"none\"/>\n",
              "    <path d=\"M18.56 5.44l.94 2.06.94-2.06 2.06-.94-2.06-.94-.94-2.06-.94 2.06-2.06.94zm-11 1L8.5 8.5l.94-2.06 2.06-.94-2.06-.94L8.5 2.5l-.94 2.06-2.06.94zm10 10l.94 2.06.94-2.06 2.06-.94-2.06-.94-.94-2.06-.94 2.06-2.06.94z\"/><path d=\"M17.41 7.96l-1.37-1.37c-.4-.4-.92-.59-1.43-.59-.52 0-1.04.2-1.43.59L10.3 9.45l-7.72 7.72c-.78.78-.78 2.05 0 2.83L4 21.41c.39.39.9.59 1.41.59.51 0 1.02-.2 1.41-.59l7.78-7.78 2.81-2.81c.8-.78.8-2.07 0-2.86zM5.41 20L4 18.59l7.72-7.72 1.47 1.35L5.41 20z\"/>\n",
              "  </svg>\n",
              "      </button>\n",
              "      \n",
              "  <style>\n",
              "    .colab-df-container {\n",
              "      display:flex;\n",
              "      flex-wrap:wrap;\n",
              "      gap: 12px;\n",
              "    }\n",
              "\n",
              "    .colab-df-convert {\n",
              "      background-color: #E8F0FE;\n",
              "      border: none;\n",
              "      border-radius: 50%;\n",
              "      cursor: pointer;\n",
              "      display: none;\n",
              "      fill: #1967D2;\n",
              "      height: 32px;\n",
              "      padding: 0 0 0 0;\n",
              "      width: 32px;\n",
              "    }\n",
              "\n",
              "    .colab-df-convert:hover {\n",
              "      background-color: #E2EBFA;\n",
              "      box-shadow: 0px 1px 2px rgba(60, 64, 67, 0.3), 0px 1px 3px 1px rgba(60, 64, 67, 0.15);\n",
              "      fill: #174EA6;\n",
              "    }\n",
              "\n",
              "    [theme=dark] .colab-df-convert {\n",
              "      background-color: #3B4455;\n",
              "      fill: #D2E3FC;\n",
              "    }\n",
              "\n",
              "    [theme=dark] .colab-df-convert:hover {\n",
              "      background-color: #434B5C;\n",
              "      box-shadow: 0px 1px 3px 1px rgba(0, 0, 0, 0.15);\n",
              "      filter: drop-shadow(0px 1px 2px rgba(0, 0, 0, 0.3));\n",
              "      fill: #FFFFFF;\n",
              "    }\n",
              "  </style>\n",
              "\n",
              "      <script>\n",
              "        const buttonEl =\n",
              "          document.querySelector('#df-5b0fa618-7de0-4bbd-b3c9-eaadecf99661 button.colab-df-convert');\n",
              "        buttonEl.style.display =\n",
              "          google.colab.kernel.accessAllowed ? 'block' : 'none';\n",
              "\n",
              "        async function convertToInteractive(key) {\n",
              "          const element = document.querySelector('#df-5b0fa618-7de0-4bbd-b3c9-eaadecf99661');\n",
              "          const dataTable =\n",
              "            await google.colab.kernel.invokeFunction('convertToInteractive',\n",
              "                                                     [key], {});\n",
              "          if (!dataTable) return;\n",
              "\n",
              "          const docLinkHtml = 'Like what you see? Visit the ' +\n",
              "            '<a target=\"_blank\" href=https://colab.research.google.com/notebooks/data_table.ipynb>data table notebook</a>'\n",
              "            + ' to learn more about interactive tables.';\n",
              "          element.innerHTML = '';\n",
              "          dataTable['output_type'] = 'display_data';\n",
              "          await google.colab.output.renderOutput(dataTable, element);\n",
              "          const docLink = document.createElement('div');\n",
              "          docLink.innerHTML = docLinkHtml;\n",
              "          element.appendChild(docLink);\n",
              "        }\n",
              "      </script>\n",
              "    </div>\n",
              "  </div>\n",
              "  "
            ]
          },
          "metadata": {},
          "execution_count": 68
        }
      ]
    },
    {
      "cell_type": "code",
      "source": [
        "#Calculating Negative, Positive, Neutral and Compound values\n",
        "\n",
        "tw_list[['polarity', 'subjectivity']] = tw_list['text'].apply(lambda Text: pd.Series(TextBlob(Text).sentiment))\n",
        "for index, row in tw_list['text'].iteritems():\n",
        "    score = SentimentIntensityAnalyzer().polarity_scores(row)\n",
        "    neg = score['neg']\n",
        "    neu = score['neu']\n",
        "    pos = score['pos']\n",
        "    comp = score['compound']\n",
        "    if neg > pos:\n",
        "        tw_list.loc[index, 'sentiment'] = \"negative\"\n",
        "    elif pos > neg:\n",
        "        tw_list.loc[index, 'sentiment'] = \"positive\"\n",
        "    else:\n",
        "        tw_list.loc[index, 'sentiment'] = \"neutral\"\n",
        "    tw_list.loc[index, 'neg'] = neg\n",
        "    tw_list.loc[index, 'neu'] = neu\n",
        "    tw_list.loc[index, 'pos'] = pos\n",
        "    tw_list.loc[index, 'compound'] = comp\n",
        "\n",
        "tw_list.head(10)"
      ],
      "metadata": {
        "id": "YOiKt10QEqaU",
        "outputId": "41b1c179-d77d-4d33-b0d0-6623e0e45b43",
        "colab": {
          "base_uri": "https://localhost:8080/",
          "height": 754
        }
      },
      "id": "YOiKt10QEqaU",
      "execution_count": 69,
      "outputs": [
        {
          "output_type": "execute_result",
          "data": {
            "text/plain": [
              "                                                   0  \\\n",
              "0     @AngolaWorldWide Lockdown had us acting atoa😭😭   \n",
              "1  RT @keffals: @ContraPoints it's actually insan...   \n",
              "2  @ProfSpada @thelucyjohnston @GBNEWS @JDaviesPh...   \n",
              "3  Pyongyang has lifted its lockdown, allowing ci...   \n",
              "4  RT @ChangJiao4: This is so sad #ZeroCovid #sha...   \n",
              "5  Laura and I first met across a zoom room durin...   \n",
              "6  @GavinNewsom Keep running your mouth about FL ...   \n",
              "7  RT @Groot66: \"Ungrateful\"? That's a pathetic l...   \n",
              "8  RT @Harrison1Ron: There are rumours that Starm...   \n",
              "9  RT @CosmopoCon: @thehill Floridians will see t...   \n",
              "\n",
              "                                                text  polarity  subjectivity  \\\n",
              "0                      lockdown had us acting atoa    0.000000      0.000000   \n",
              "1     it s actually insane how rates are still hi... -0.375000      0.750000   \n",
              "2          big pharma once again benefitting from...  0.000000      0.100000   \n",
              "3  pyongyang has lifted its lockdown  allowing ci...  0.000000      0.000000   \n",
              "4   this is so sad  zerocovid  shanghai  chinaloc... -0.500000      1.000000   \n",
              "5  laura and i first met across a zoom room durin...  0.125000      0.500000   \n",
              "6    keep running your mouth about fl as californ...  0.000000      0.000000   \n",
              "7    ungrateful   that s a pathetic line of argum... -0.287879      0.708333   \n",
              "8   there are rumours that starmer raynar and foy...  0.000000      0.000000   \n",
              "9     floridians will see through the extraordina...  0.466667      1.000000   \n",
              "\n",
              "  sentiment    neg    neu    pos  compound  \n",
              "0   neutral  0.000  1.000  0.000    0.0000  \n",
              "1  negative  0.197  0.803  0.000   -0.5647  \n",
              "2  positive  0.000  0.674  0.326    0.4404  \n",
              "3   neutral  0.000  1.000  0.000    0.0000  \n",
              "4  negative  0.164  0.741  0.095   -0.4002  \n",
              "5   neutral  0.000  1.000  0.000    0.0000  \n",
              "6  positive  0.084  0.752  0.164    0.4215  \n",
              "7  negative  0.349  0.531  0.120   -0.7216  \n",
              "8   neutral  0.000  1.000  0.000    0.0000  \n",
              "9   neutral  0.000  1.000  0.000    0.0000  "
            ],
            "text/html": [
              "\n",
              "  <div id=\"df-38c30e85-9630-43d6-9612-ba062a7d120f\">\n",
              "    <div class=\"colab-df-container\">\n",
              "      <div>\n",
              "<style scoped>\n",
              "    .dataframe tbody tr th:only-of-type {\n",
              "        vertical-align: middle;\n",
              "    }\n",
              "\n",
              "    .dataframe tbody tr th {\n",
              "        vertical-align: top;\n",
              "    }\n",
              "\n",
              "    .dataframe thead th {\n",
              "        text-align: right;\n",
              "    }\n",
              "</style>\n",
              "<table border=\"1\" class=\"dataframe\">\n",
              "  <thead>\n",
              "    <tr style=\"text-align: right;\">\n",
              "      <th></th>\n",
              "      <th>0</th>\n",
              "      <th>text</th>\n",
              "      <th>polarity</th>\n",
              "      <th>subjectivity</th>\n",
              "      <th>sentiment</th>\n",
              "      <th>neg</th>\n",
              "      <th>neu</th>\n",
              "      <th>pos</th>\n",
              "      <th>compound</th>\n",
              "    </tr>\n",
              "  </thead>\n",
              "  <tbody>\n",
              "    <tr>\n",
              "      <th>0</th>\n",
              "      <td>@AngolaWorldWide Lockdown had us acting atoa😭😭</td>\n",
              "      <td>lockdown had us acting atoa</td>\n",
              "      <td>0.000000</td>\n",
              "      <td>0.000000</td>\n",
              "      <td>neutral</td>\n",
              "      <td>0.000</td>\n",
              "      <td>1.000</td>\n",
              "      <td>0.000</td>\n",
              "      <td>0.0000</td>\n",
              "    </tr>\n",
              "    <tr>\n",
              "      <th>1</th>\n",
              "      <td>RT @keffals: @ContraPoints it's actually insan...</td>\n",
              "      <td>it s actually insane how rates are still hi...</td>\n",
              "      <td>-0.375000</td>\n",
              "      <td>0.750000</td>\n",
              "      <td>negative</td>\n",
              "      <td>0.197</td>\n",
              "      <td>0.803</td>\n",
              "      <td>0.000</td>\n",
              "      <td>-0.5647</td>\n",
              "    </tr>\n",
              "    <tr>\n",
              "      <th>2</th>\n",
              "      <td>@ProfSpada @thelucyjohnston @GBNEWS @JDaviesPh...</td>\n",
              "      <td>big pharma once again benefitting from...</td>\n",
              "      <td>0.000000</td>\n",
              "      <td>0.100000</td>\n",
              "      <td>positive</td>\n",
              "      <td>0.000</td>\n",
              "      <td>0.674</td>\n",
              "      <td>0.326</td>\n",
              "      <td>0.4404</td>\n",
              "    </tr>\n",
              "    <tr>\n",
              "      <th>3</th>\n",
              "      <td>Pyongyang has lifted its lockdown, allowing ci...</td>\n",
              "      <td>pyongyang has lifted its lockdown  allowing ci...</td>\n",
              "      <td>0.000000</td>\n",
              "      <td>0.000000</td>\n",
              "      <td>neutral</td>\n",
              "      <td>0.000</td>\n",
              "      <td>1.000</td>\n",
              "      <td>0.000</td>\n",
              "      <td>0.0000</td>\n",
              "    </tr>\n",
              "    <tr>\n",
              "      <th>4</th>\n",
              "      <td>RT @ChangJiao4: This is so sad #ZeroCovid #sha...</td>\n",
              "      <td>this is so sad  zerocovid  shanghai  chinaloc...</td>\n",
              "      <td>-0.500000</td>\n",
              "      <td>1.000000</td>\n",
              "      <td>negative</td>\n",
              "      <td>0.164</td>\n",
              "      <td>0.741</td>\n",
              "      <td>0.095</td>\n",
              "      <td>-0.4002</td>\n",
              "    </tr>\n",
              "    <tr>\n",
              "      <th>5</th>\n",
              "      <td>Laura and I first met across a zoom room durin...</td>\n",
              "      <td>laura and i first met across a zoom room durin...</td>\n",
              "      <td>0.125000</td>\n",
              "      <td>0.500000</td>\n",
              "      <td>neutral</td>\n",
              "      <td>0.000</td>\n",
              "      <td>1.000</td>\n",
              "      <td>0.000</td>\n",
              "      <td>0.0000</td>\n",
              "    </tr>\n",
              "    <tr>\n",
              "      <th>6</th>\n",
              "      <td>@GavinNewsom Keep running your mouth about FL ...</td>\n",
              "      <td>keep running your mouth about fl as californ...</td>\n",
              "      <td>0.000000</td>\n",
              "      <td>0.000000</td>\n",
              "      <td>positive</td>\n",
              "      <td>0.084</td>\n",
              "      <td>0.752</td>\n",
              "      <td>0.164</td>\n",
              "      <td>0.4215</td>\n",
              "    </tr>\n",
              "    <tr>\n",
              "      <th>7</th>\n",
              "      <td>RT @Groot66: \"Ungrateful\"? That's a pathetic l...</td>\n",
              "      <td>ungrateful   that s a pathetic line of argum...</td>\n",
              "      <td>-0.287879</td>\n",
              "      <td>0.708333</td>\n",
              "      <td>negative</td>\n",
              "      <td>0.349</td>\n",
              "      <td>0.531</td>\n",
              "      <td>0.120</td>\n",
              "      <td>-0.7216</td>\n",
              "    </tr>\n",
              "    <tr>\n",
              "      <th>8</th>\n",
              "      <td>RT @Harrison1Ron: There are rumours that Starm...</td>\n",
              "      <td>there are rumours that starmer raynar and foy...</td>\n",
              "      <td>0.000000</td>\n",
              "      <td>0.000000</td>\n",
              "      <td>neutral</td>\n",
              "      <td>0.000</td>\n",
              "      <td>1.000</td>\n",
              "      <td>0.000</td>\n",
              "      <td>0.0000</td>\n",
              "    </tr>\n",
              "    <tr>\n",
              "      <th>9</th>\n",
              "      <td>RT @CosmopoCon: @thehill Floridians will see t...</td>\n",
              "      <td>floridians will see through the extraordina...</td>\n",
              "      <td>0.466667</td>\n",
              "      <td>1.000000</td>\n",
              "      <td>neutral</td>\n",
              "      <td>0.000</td>\n",
              "      <td>1.000</td>\n",
              "      <td>0.000</td>\n",
              "      <td>0.0000</td>\n",
              "    </tr>\n",
              "  </tbody>\n",
              "</table>\n",
              "</div>\n",
              "      <button class=\"colab-df-convert\" onclick=\"convertToInteractive('df-38c30e85-9630-43d6-9612-ba062a7d120f')\"\n",
              "              title=\"Convert this dataframe to an interactive table.\"\n",
              "              style=\"display:none;\">\n",
              "        \n",
              "  <svg xmlns=\"http://www.w3.org/2000/svg\" height=\"24px\"viewBox=\"0 0 24 24\"\n",
              "       width=\"24px\">\n",
              "    <path d=\"M0 0h24v24H0V0z\" fill=\"none\"/>\n",
              "    <path d=\"M18.56 5.44l.94 2.06.94-2.06 2.06-.94-2.06-.94-.94-2.06-.94 2.06-2.06.94zm-11 1L8.5 8.5l.94-2.06 2.06-.94-2.06-.94L8.5 2.5l-.94 2.06-2.06.94zm10 10l.94 2.06.94-2.06 2.06-.94-2.06-.94-.94-2.06-.94 2.06-2.06.94z\"/><path d=\"M17.41 7.96l-1.37-1.37c-.4-.4-.92-.59-1.43-.59-.52 0-1.04.2-1.43.59L10.3 9.45l-7.72 7.72c-.78.78-.78 2.05 0 2.83L4 21.41c.39.39.9.59 1.41.59.51 0 1.02-.2 1.41-.59l7.78-7.78 2.81-2.81c.8-.78.8-2.07 0-2.86zM5.41 20L4 18.59l7.72-7.72 1.47 1.35L5.41 20z\"/>\n",
              "  </svg>\n",
              "      </button>\n",
              "      \n",
              "  <style>\n",
              "    .colab-df-container {\n",
              "      display:flex;\n",
              "      flex-wrap:wrap;\n",
              "      gap: 12px;\n",
              "    }\n",
              "\n",
              "    .colab-df-convert {\n",
              "      background-color: #E8F0FE;\n",
              "      border: none;\n",
              "      border-radius: 50%;\n",
              "      cursor: pointer;\n",
              "      display: none;\n",
              "      fill: #1967D2;\n",
              "      height: 32px;\n",
              "      padding: 0 0 0 0;\n",
              "      width: 32px;\n",
              "    }\n",
              "\n",
              "    .colab-df-convert:hover {\n",
              "      background-color: #E2EBFA;\n",
              "      box-shadow: 0px 1px 2px rgba(60, 64, 67, 0.3), 0px 1px 3px 1px rgba(60, 64, 67, 0.15);\n",
              "      fill: #174EA6;\n",
              "    }\n",
              "\n",
              "    [theme=dark] .colab-df-convert {\n",
              "      background-color: #3B4455;\n",
              "      fill: #D2E3FC;\n",
              "    }\n",
              "\n",
              "    [theme=dark] .colab-df-convert:hover {\n",
              "      background-color: #434B5C;\n",
              "      box-shadow: 0px 1px 3px 1px rgba(0, 0, 0, 0.15);\n",
              "      filter: drop-shadow(0px 1px 2px rgba(0, 0, 0, 0.3));\n",
              "      fill: #FFFFFF;\n",
              "    }\n",
              "  </style>\n",
              "\n",
              "      <script>\n",
              "        const buttonEl =\n",
              "          document.querySelector('#df-38c30e85-9630-43d6-9612-ba062a7d120f button.colab-df-convert');\n",
              "        buttonEl.style.display =\n",
              "          google.colab.kernel.accessAllowed ? 'block' : 'none';\n",
              "\n",
              "        async function convertToInteractive(key) {\n",
              "          const element = document.querySelector('#df-38c30e85-9630-43d6-9612-ba062a7d120f');\n",
              "          const dataTable =\n",
              "            await google.colab.kernel.invokeFunction('convertToInteractive',\n",
              "                                                     [key], {});\n",
              "          if (!dataTable) return;\n",
              "\n",
              "          const docLinkHtml = 'Like what you see? Visit the ' +\n",
              "            '<a target=\"_blank\" href=https://colab.research.google.com/notebooks/data_table.ipynb>data table notebook</a>'\n",
              "            + ' to learn more about interactive tables.';\n",
              "          element.innerHTML = '';\n",
              "          dataTable['output_type'] = 'display_data';\n",
              "          await google.colab.output.renderOutput(dataTable, element);\n",
              "          const docLink = document.createElement('div');\n",
              "          docLink.innerHTML = docLinkHtml;\n",
              "          element.appendChild(docLink);\n",
              "        }\n",
              "      </script>\n",
              "    </div>\n",
              "  </div>\n",
              "  "
            ]
          },
          "metadata": {},
          "execution_count": 69
        }
      ]
    },
    {
      "cell_type": "code",
      "source": [
        ""
      ],
      "metadata": {
        "id": "CrIfvkLCFZ9R"
      },
      "id": "CrIfvkLCFZ9R",
      "execution_count": null,
      "outputs": []
    }
  ],
  "metadata": {
    "kernelspec": {
      "display_name": "Python 3",
      "language": "python",
      "name": "python3"
    },
    "language_info": {
      "codemirror_mode": {
        "name": "ipython",
        "version": 3
      },
      "file_extension": ".py",
      "mimetype": "text/x-python",
      "name": "python",
      "nbconvert_exporter": "python",
      "pygments_lexer": "ipython3",
      "version": "3.8.8"
    },
    "colab": {
      "name": "Twitter Sentiment Analysis.ipynb",
      "provenance": []
    }
  },
  "nbformat": 4,
  "nbformat_minor": 5
}