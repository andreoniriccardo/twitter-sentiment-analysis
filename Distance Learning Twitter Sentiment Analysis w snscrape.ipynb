{
  "nbformat": 4,
  "nbformat_minor": 0,
  "metadata": {
    "colab": {
      "name": "Distance Learning Twitter Sentiment Analysis w snscrape.ipynb",
      "provenance": [],
      "authorship_tag": "ABX9TyMcvnTnHmquW98ZRvQBlJHN",
      "include_colab_link": true
    },
    "kernelspec": {
      "name": "python3",
      "display_name": "Python 3"
    },
    "language_info": {
      "name": "python"
    }
  },
  "cells": [
    {
      "cell_type": "markdown",
      "metadata": {
        "id": "view-in-github",
        "colab_type": "text"
      },
      "source": [
        "<a href=\"https://colab.research.google.com/github/andreoniriccardo/twitter-sentiment-analysis/blob/main/Distance%20Learning%20Twitter%20Sentiment%20Analysis%20w%20snscrape.ipynb\" target=\"_parent\"><img src=\"https://colab.research.google.com/assets/colab-badge.svg\" alt=\"Open In Colab\"/></a>"
      ]
    },
    {
      "cell_type": "code",
      "source": [
        "# install dependencies\n",
        "!pip install snscrape\n",
        "!pip install emoji\n",
        "!python3 -m nltk.downloader stopwords"
      ],
      "metadata": {
        "colab": {
          "base_uri": "https://localhost:8080/"
        },
        "id": "EgTdk8P2TLni",
        "outputId": "ae24481e-e3e3-415c-906b-c73b3669ede0"
      },
      "execution_count": 68,
      "outputs": [
        {
          "output_type": "stream",
          "name": "stdout",
          "text": [
            "Looking in indexes: https://pypi.org/simple, https://us-python.pkg.dev/colab-wheels/public/simple/\n",
            "Requirement already satisfied: snscrape in /usr/local/lib/python3.7/dist-packages (0.3.4)\n",
            "Requirement already satisfied: lxml in /usr/local/lib/python3.7/dist-packages (from snscrape) (4.2.6)\n",
            "Requirement already satisfied: requests[socks] in /usr/local/lib/python3.7/dist-packages (from snscrape) (2.23.0)\n",
            "Requirement already satisfied: beautifulsoup4 in /usr/local/lib/python3.7/dist-packages (from snscrape) (4.6.3)\n",
            "Requirement already satisfied: urllib3!=1.25.0,!=1.25.1,<1.26,>=1.21.1 in /usr/local/lib/python3.7/dist-packages (from requests[socks]->snscrape) (1.24.3)\n",
            "Requirement already satisfied: chardet<4,>=3.0.2 in /usr/local/lib/python3.7/dist-packages (from requests[socks]->snscrape) (3.0.4)\n",
            "Requirement already satisfied: certifi>=2017.4.17 in /usr/local/lib/python3.7/dist-packages (from requests[socks]->snscrape) (2022.6.15)\n",
            "Requirement already satisfied: idna<3,>=2.5 in /usr/local/lib/python3.7/dist-packages (from requests[socks]->snscrape) (2.10)\n",
            "Requirement already satisfied: PySocks!=1.5.7,>=1.5.6 in /usr/local/lib/python3.7/dist-packages (from requests[socks]->snscrape) (1.7.1)\n",
            "Looking in indexes: https://pypi.org/simple, https://us-python.pkg.dev/colab-wheels/public/simple/\n",
            "Requirement already satisfied: emoji in /usr/local/lib/python3.7/dist-packages (1.7.0)\n",
            "/usr/lib/python3.7/runpy.py:125: RuntimeWarning: 'nltk.downloader' found in sys.modules after import of package 'nltk', but prior to execution of 'nltk.downloader'; this may result in unpredictable behaviour\n",
            "  warn(RuntimeWarning(msg))\n",
            "[nltk_data] Downloading package stopwords to /root/nltk_data...\n",
            "[nltk_data]   Unzipping corpora/stopwords.zip.\n"
          ]
        }
      ]
    },
    {
      "cell_type": "code",
      "execution_count": 119,
      "metadata": {
        "id": "_GBUmKJxSs2G"
      },
      "outputs": [],
      "source": [
        "# import required libraries\n",
        "import snscrape.modules.twitter as sntwitter\n",
        "import pandas as pd\n",
        "from IPython.display import clear_output\n",
        "import regex as re\n",
        "import emoji\n",
        "from nltk.corpus import stopwords\n",
        "import matplotlib.pyplot as plt\n",
        "import seaborn as sns"
      ]
    },
    {
      "cell_type": "code",
      "source": [
        "# define function to retrieve tweets for a defined day and topic\n",
        "def fetch_tweets(query='a', n_of_tweets='100', language='en', from_date='2020-01-01', to_date='2020-12-31'):\n",
        "  query = str(query)\n",
        "  # combine the query string\n",
        "  query_str = query + \" lang:\" + language + \" until:\" + to_date + \" since:\" + from_date\n",
        "  \n",
        "  # fetch the tweets\n",
        "  tweets_list = []\n",
        "  for tweet in sntwitter.TwitterSearchScraper(query_str).get_items():\n",
        "    if len(tweets_list) == n_of_tweets:\n",
        "        break\n",
        "    else:\n",
        "        tweets_list.append([tweet.date, tweet.username, tweet.content])\n",
        "  \n",
        "  # store the tweets in a df\n",
        "  columns = ['Time', 'User', 'Tweet']\n",
        "  df = pd.DataFrame(tweets_list, columns=columns)\n",
        "  return df"
      ],
      "metadata": {
        "id": "CJCbkk0YUMvR"
      },
      "execution_count": 8,
      "outputs": []
    },
    {
      "cell_type": "code",
      "source": [
        "# create dates array\n",
        "dates = list(pd.date_range(start='01/01/20', end='12/31/20'))\n",
        "\n",
        "def toYYYYMMDDmmmm(my_date):\n",
        "  my_date = my_date.strftime(\"%Y-%m-%d\")\n",
        "  return my_date\n",
        "\n",
        "dates_UTC = list(map(toYYYYMMDDmmmm, dates))"
      ],
      "metadata": {
        "id": "4KzgYA1FUgHA"
      },
      "execution_count": 9,
      "outputs": []
    },
    {
      "cell_type": "markdown",
      "source": [
        "**Attention!** Only run the following cell if you don't have a pre-saved dataframe.\n",
        "If you already have a dataset, skip to the \"load pre-saved dataframe\" cell."
      ],
      "metadata": {
        "id": "XNeO2FELj8s1"
      }
    },
    {
      "cell_type": "code",
      "source": [
        "# fetch the tweets\n",
        "# specity query topic and number of tweets per period\n",
        "query = 'distance learning'\n",
        "n_of_tweets = 500\n",
        "\n",
        "# initialize df\n",
        "columns = ['Time', 'User', 'Tweet']\n",
        "df = pd.DataFrame(columns=columns)\n",
        "\n",
        "for i in range(0, len(dates_UTC)-1):\n",
        "  # specify from and to date\n",
        "  from_date = dates_UTC[i]\n",
        "  to_date = dates_UTC[i+1]\n",
        "\n",
        "  current_df = fetch_tweets(query=query, n_of_tweets=n_of_tweets, language='en', from_date=from_date, to_date=to_date)\n",
        "  df = pd.concat([df, current_df], ignore_index=True)\n",
        "  clear_output(wait=True)\n",
        "  print(i, \"/\", len(dates_UTC)-1)"
      ],
      "metadata": {
        "id": "jStnMKIaVjwH",
        "colab": {
          "base_uri": "https://localhost:8080/"
        },
        "outputId": "71fa0537-5cea-48a6-85cc-6cc8ae27eff4"
      },
      "execution_count": 16,
      "outputs": [
        {
          "output_type": "stream",
          "name": "stdout",
          "text": [
            "364 / 365\n"
          ]
        }
      ]
    },
    {
      "cell_type": "code",
      "source": [
        "# preview of the dataframe \n",
        "df.head()"
      ],
      "metadata": {
        "colab": {
          "base_uri": "https://localhost:8080/",
          "height": 206
        },
        "id": "CsZgi_gwazgX",
        "outputId": "2dc0e562-9b32-4240-887d-b80ad71a176e"
      },
      "execution_count": 18,
      "outputs": [
        {
          "output_type": "execute_result",
          "data": {
            "text/plain": [
              "                       Time             User  \\\n",
              "0 2020-01-01 23:49:16+00:00  JJClaptonWrites   \n",
              "1 2020-01-01 20:44:20+00:00        ClientSDL   \n",
              "2 2020-01-01 19:32:55+00:00   stinkingflower   \n",
              "3 2020-01-01 15:40:08+00:00   ITGovernanceEU   \n",
              "4 2020-01-01 14:04:15+00:00   PrepperWebsite   \n",
              "\n",
              "                                               Tweet  \n",
              "0  2012: the year I finally had to give up any ho...  \n",
              "1  SDL for #EducationandTraining #Teaching #Learn...  \n",
              "2  @Ali_Davis At 58, I'm going for my 3rd Degree,...  \n",
              "3  📚 Distance learning offers you a cost effectiv...  \n",
              "4  INFOGRAPHIC: #History of Online Learning https...  "
            ],
            "text/html": [
              "\n",
              "  <div id=\"df-df4d44e9-8cef-4756-a56f-1f2d7c8c09e3\">\n",
              "    <div class=\"colab-df-container\">\n",
              "      <div>\n",
              "<style scoped>\n",
              "    .dataframe tbody tr th:only-of-type {\n",
              "        vertical-align: middle;\n",
              "    }\n",
              "\n",
              "    .dataframe tbody tr th {\n",
              "        vertical-align: top;\n",
              "    }\n",
              "\n",
              "    .dataframe thead th {\n",
              "        text-align: right;\n",
              "    }\n",
              "</style>\n",
              "<table border=\"1\" class=\"dataframe\">\n",
              "  <thead>\n",
              "    <tr style=\"text-align: right;\">\n",
              "      <th></th>\n",
              "      <th>Time</th>\n",
              "      <th>User</th>\n",
              "      <th>Tweet</th>\n",
              "    </tr>\n",
              "  </thead>\n",
              "  <tbody>\n",
              "    <tr>\n",
              "      <th>0</th>\n",
              "      <td>2020-01-01 23:49:16+00:00</td>\n",
              "      <td>JJClaptonWrites</td>\n",
              "      <td>2012: the year I finally had to give up any ho...</td>\n",
              "    </tr>\n",
              "    <tr>\n",
              "      <th>1</th>\n",
              "      <td>2020-01-01 20:44:20+00:00</td>\n",
              "      <td>ClientSDL</td>\n",
              "      <td>SDL for #EducationandTraining #Teaching #Learn...</td>\n",
              "    </tr>\n",
              "    <tr>\n",
              "      <th>2</th>\n",
              "      <td>2020-01-01 19:32:55+00:00</td>\n",
              "      <td>stinkingflower</td>\n",
              "      <td>@Ali_Davis At 58, I'm going for my 3rd Degree,...</td>\n",
              "    </tr>\n",
              "    <tr>\n",
              "      <th>3</th>\n",
              "      <td>2020-01-01 15:40:08+00:00</td>\n",
              "      <td>ITGovernanceEU</td>\n",
              "      <td>📚 Distance learning offers you a cost effectiv...</td>\n",
              "    </tr>\n",
              "    <tr>\n",
              "      <th>4</th>\n",
              "      <td>2020-01-01 14:04:15+00:00</td>\n",
              "      <td>PrepperWebsite</td>\n",
              "      <td>INFOGRAPHIC: #History of Online Learning https...</td>\n",
              "    </tr>\n",
              "  </tbody>\n",
              "</table>\n",
              "</div>\n",
              "      <button class=\"colab-df-convert\" onclick=\"convertToInteractive('df-df4d44e9-8cef-4756-a56f-1f2d7c8c09e3')\"\n",
              "              title=\"Convert this dataframe to an interactive table.\"\n",
              "              style=\"display:none;\">\n",
              "        \n",
              "  <svg xmlns=\"http://www.w3.org/2000/svg\" height=\"24px\"viewBox=\"0 0 24 24\"\n",
              "       width=\"24px\">\n",
              "    <path d=\"M0 0h24v24H0V0z\" fill=\"none\"/>\n",
              "    <path d=\"M18.56 5.44l.94 2.06.94-2.06 2.06-.94-2.06-.94-.94-2.06-.94 2.06-2.06.94zm-11 1L8.5 8.5l.94-2.06 2.06-.94-2.06-.94L8.5 2.5l-.94 2.06-2.06.94zm10 10l.94 2.06.94-2.06 2.06-.94-2.06-.94-.94-2.06-.94 2.06-2.06.94z\"/><path d=\"M17.41 7.96l-1.37-1.37c-.4-.4-.92-.59-1.43-.59-.52 0-1.04.2-1.43.59L10.3 9.45l-7.72 7.72c-.78.78-.78 2.05 0 2.83L4 21.41c.39.39.9.59 1.41.59.51 0 1.02-.2 1.41-.59l7.78-7.78 2.81-2.81c.8-.78.8-2.07 0-2.86zM5.41 20L4 18.59l7.72-7.72 1.47 1.35L5.41 20z\"/>\n",
              "  </svg>\n",
              "      </button>\n",
              "      \n",
              "  <style>\n",
              "    .colab-df-container {\n",
              "      display:flex;\n",
              "      flex-wrap:wrap;\n",
              "      gap: 12px;\n",
              "    }\n",
              "\n",
              "    .colab-df-convert {\n",
              "      background-color: #E8F0FE;\n",
              "      border: none;\n",
              "      border-radius: 50%;\n",
              "      cursor: pointer;\n",
              "      display: none;\n",
              "      fill: #1967D2;\n",
              "      height: 32px;\n",
              "      padding: 0 0 0 0;\n",
              "      width: 32px;\n",
              "    }\n",
              "\n",
              "    .colab-df-convert:hover {\n",
              "      background-color: #E2EBFA;\n",
              "      box-shadow: 0px 1px 2px rgba(60, 64, 67, 0.3), 0px 1px 3px 1px rgba(60, 64, 67, 0.15);\n",
              "      fill: #174EA6;\n",
              "    }\n",
              "\n",
              "    [theme=dark] .colab-df-convert {\n",
              "      background-color: #3B4455;\n",
              "      fill: #D2E3FC;\n",
              "    }\n",
              "\n",
              "    [theme=dark] .colab-df-convert:hover {\n",
              "      background-color: #434B5C;\n",
              "      box-shadow: 0px 1px 3px 1px rgba(0, 0, 0, 0.15);\n",
              "      filter: drop-shadow(0px 1px 2px rgba(0, 0, 0, 0.3));\n",
              "      fill: #FFFFFF;\n",
              "    }\n",
              "  </style>\n",
              "\n",
              "      <script>\n",
              "        const buttonEl =\n",
              "          document.querySelector('#df-df4d44e9-8cef-4756-a56f-1f2d7c8c09e3 button.colab-df-convert');\n",
              "        buttonEl.style.display =\n",
              "          google.colab.kernel.accessAllowed ? 'block' : 'none';\n",
              "\n",
              "        async function convertToInteractive(key) {\n",
              "          const element = document.querySelector('#df-df4d44e9-8cef-4756-a56f-1f2d7c8c09e3');\n",
              "          const dataTable =\n",
              "            await google.colab.kernel.invokeFunction('convertToInteractive',\n",
              "                                                     [key], {});\n",
              "          if (!dataTable) return;\n",
              "\n",
              "          const docLinkHtml = 'Like what you see? Visit the ' +\n",
              "            '<a target=\"_blank\" href=https://colab.research.google.com/notebooks/data_table.ipynb>data table notebook</a>'\n",
              "            + ' to learn more about interactive tables.';\n",
              "          element.innerHTML = '';\n",
              "          dataTable['output_type'] = 'display_data';\n",
              "          await google.colab.output.renderOutput(dataTable, element);\n",
              "          const docLink = document.createElement('div');\n",
              "          docLink.innerHTML = docLinkHtml;\n",
              "          element.appendChild(docLink);\n",
              "        }\n",
              "      </script>\n",
              "    </div>\n",
              "  </div>\n",
              "  "
            ]
          },
          "metadata": {},
          "execution_count": 18
        }
      ]
    },
    {
      "cell_type": "code",
      "source": [
        "# export df as csv file\n",
        "df.to_csv('distance_learning_df.csv')"
      ],
      "metadata": {
        "id": "VmCfMGiSe7La"
      },
      "execution_count": 19,
      "outputs": []
    },
    {
      "cell_type": "code",
      "source": [
        "# load pre-saved dataframe\n",
        "df = pd.read_csv(\"500_per_day.csv\", index_col=0)\n",
        "df.head()"
      ],
      "metadata": {
        "colab": {
          "base_uri": "https://localhost:8080/",
          "height": 206
        },
        "id": "Yvk5Z2AIjc9W",
        "outputId": "4e2489c4-ac2b-4609-b4cf-ea25896ee7a5"
      },
      "execution_count": 89,
      "outputs": [
        {
          "output_type": "execute_result",
          "data": {
            "text/plain": [
              "                        Time             User  \\\n",
              "0  2020-01-01 23:49:16+00:00  JJClaptonWrites   \n",
              "1  2020-01-01 20:44:20+00:00        ClientSDL   \n",
              "2  2020-01-01 19:32:55+00:00   stinkingflower   \n",
              "3  2020-01-01 15:40:08+00:00   ITGovernanceEU   \n",
              "4  2020-01-01 14:04:15+00:00   PrepperWebsite   \n",
              "\n",
              "                                               Tweet  \n",
              "0  2012: the year I finally had to give up any ho...  \n",
              "1  SDL for #EducationandTraining #Teaching #Learn...  \n",
              "2  @Ali_Davis At 58, I'm going for my 3rd Degree,...  \n",
              "3  📚 Distance learning offers you a cost effectiv...  \n",
              "4  INFOGRAPHIC: #History of Online Learning https...  "
            ],
            "text/html": [
              "\n",
              "  <div id=\"df-bfb47407-3750-4fd7-9752-facc0f30af53\">\n",
              "    <div class=\"colab-df-container\">\n",
              "      <div>\n",
              "<style scoped>\n",
              "    .dataframe tbody tr th:only-of-type {\n",
              "        vertical-align: middle;\n",
              "    }\n",
              "\n",
              "    .dataframe tbody tr th {\n",
              "        vertical-align: top;\n",
              "    }\n",
              "\n",
              "    .dataframe thead th {\n",
              "        text-align: right;\n",
              "    }\n",
              "</style>\n",
              "<table border=\"1\" class=\"dataframe\">\n",
              "  <thead>\n",
              "    <tr style=\"text-align: right;\">\n",
              "      <th></th>\n",
              "      <th>Time</th>\n",
              "      <th>User</th>\n",
              "      <th>Tweet</th>\n",
              "    </tr>\n",
              "  </thead>\n",
              "  <tbody>\n",
              "    <tr>\n",
              "      <th>0</th>\n",
              "      <td>2020-01-01 23:49:16+00:00</td>\n",
              "      <td>JJClaptonWrites</td>\n",
              "      <td>2012: the year I finally had to give up any ho...</td>\n",
              "    </tr>\n",
              "    <tr>\n",
              "      <th>1</th>\n",
              "      <td>2020-01-01 20:44:20+00:00</td>\n",
              "      <td>ClientSDL</td>\n",
              "      <td>SDL for #EducationandTraining #Teaching #Learn...</td>\n",
              "    </tr>\n",
              "    <tr>\n",
              "      <th>2</th>\n",
              "      <td>2020-01-01 19:32:55+00:00</td>\n",
              "      <td>stinkingflower</td>\n",
              "      <td>@Ali_Davis At 58, I'm going for my 3rd Degree,...</td>\n",
              "    </tr>\n",
              "    <tr>\n",
              "      <th>3</th>\n",
              "      <td>2020-01-01 15:40:08+00:00</td>\n",
              "      <td>ITGovernanceEU</td>\n",
              "      <td>📚 Distance learning offers you a cost effectiv...</td>\n",
              "    </tr>\n",
              "    <tr>\n",
              "      <th>4</th>\n",
              "      <td>2020-01-01 14:04:15+00:00</td>\n",
              "      <td>PrepperWebsite</td>\n",
              "      <td>INFOGRAPHIC: #History of Online Learning https...</td>\n",
              "    </tr>\n",
              "  </tbody>\n",
              "</table>\n",
              "</div>\n",
              "      <button class=\"colab-df-convert\" onclick=\"convertToInteractive('df-bfb47407-3750-4fd7-9752-facc0f30af53')\"\n",
              "              title=\"Convert this dataframe to an interactive table.\"\n",
              "              style=\"display:none;\">\n",
              "        \n",
              "  <svg xmlns=\"http://www.w3.org/2000/svg\" height=\"24px\"viewBox=\"0 0 24 24\"\n",
              "       width=\"24px\">\n",
              "    <path d=\"M0 0h24v24H0V0z\" fill=\"none\"/>\n",
              "    <path d=\"M18.56 5.44l.94 2.06.94-2.06 2.06-.94-2.06-.94-.94-2.06-.94 2.06-2.06.94zm-11 1L8.5 8.5l.94-2.06 2.06-.94-2.06-.94L8.5 2.5l-.94 2.06-2.06.94zm10 10l.94 2.06.94-2.06 2.06-.94-2.06-.94-.94-2.06-.94 2.06-2.06.94z\"/><path d=\"M17.41 7.96l-1.37-1.37c-.4-.4-.92-.59-1.43-.59-.52 0-1.04.2-1.43.59L10.3 9.45l-7.72 7.72c-.78.78-.78 2.05 0 2.83L4 21.41c.39.39.9.59 1.41.59.51 0 1.02-.2 1.41-.59l7.78-7.78 2.81-2.81c.8-.78.8-2.07 0-2.86zM5.41 20L4 18.59l7.72-7.72 1.47 1.35L5.41 20z\"/>\n",
              "  </svg>\n",
              "      </button>\n",
              "      \n",
              "  <style>\n",
              "    .colab-df-container {\n",
              "      display:flex;\n",
              "      flex-wrap:wrap;\n",
              "      gap: 12px;\n",
              "    }\n",
              "\n",
              "    .colab-df-convert {\n",
              "      background-color: #E8F0FE;\n",
              "      border: none;\n",
              "      border-radius: 50%;\n",
              "      cursor: pointer;\n",
              "      display: none;\n",
              "      fill: #1967D2;\n",
              "      height: 32px;\n",
              "      padding: 0 0 0 0;\n",
              "      width: 32px;\n",
              "    }\n",
              "\n",
              "    .colab-df-convert:hover {\n",
              "      background-color: #E2EBFA;\n",
              "      box-shadow: 0px 1px 2px rgba(60, 64, 67, 0.3), 0px 1px 3px 1px rgba(60, 64, 67, 0.15);\n",
              "      fill: #174EA6;\n",
              "    }\n",
              "\n",
              "    [theme=dark] .colab-df-convert {\n",
              "      background-color: #3B4455;\n",
              "      fill: #D2E3FC;\n",
              "    }\n",
              "\n",
              "    [theme=dark] .colab-df-convert:hover {\n",
              "      background-color: #434B5C;\n",
              "      box-shadow: 0px 1px 3px 1px rgba(0, 0, 0, 0.15);\n",
              "      filter: drop-shadow(0px 1px 2px rgba(0, 0, 0, 0.3));\n",
              "      fill: #FFFFFF;\n",
              "    }\n",
              "  </style>\n",
              "\n",
              "      <script>\n",
              "        const buttonEl =\n",
              "          document.querySelector('#df-bfb47407-3750-4fd7-9752-facc0f30af53 button.colab-df-convert');\n",
              "        buttonEl.style.display =\n",
              "          google.colab.kernel.accessAllowed ? 'block' : 'none';\n",
              "\n",
              "        async function convertToInteractive(key) {\n",
              "          const element = document.querySelector('#df-bfb47407-3750-4fd7-9752-facc0f30af53');\n",
              "          const dataTable =\n",
              "            await google.colab.kernel.invokeFunction('convertToInteractive',\n",
              "                                                     [key], {});\n",
              "          if (!dataTable) return;\n",
              "\n",
              "          const docLinkHtml = 'Like what you see? Visit the ' +\n",
              "            '<a target=\"_blank\" href=https://colab.research.google.com/notebooks/data_table.ipynb>data table notebook</a>'\n",
              "            + ' to learn more about interactive tables.';\n",
              "          element.innerHTML = '';\n",
              "          dataTable['output_type'] = 'display_data';\n",
              "          await google.colab.output.renderOutput(dataTable, element);\n",
              "          const docLink = document.createElement('div');\n",
              "          docLink.innerHTML = docLinkHtml;\n",
              "          element.appendChild(docLink);\n",
              "        }\n",
              "      </script>\n",
              "    </div>\n",
              "  </div>\n",
              "  "
            ]
          },
          "metadata": {},
          "execution_count": 89
        }
      ]
    },
    {
      "cell_type": "code",
      "source": [
        "# check column type\n",
        "df.info()"
      ],
      "metadata": {
        "id": "kGbcL7vDYASi",
        "outputId": "d41817ea-181e-44ae-9e11-fc8b1deaa0ed",
        "colab": {
          "base_uri": "https://localhost:8080/"
        }
      },
      "execution_count": 105,
      "outputs": [
        {
          "output_type": "stream",
          "name": "stdout",
          "text": [
            "<class 'pandas.core.frame.DataFrame'>\n",
            "Int64Index: 153443 entries, 0 to 153442\n",
            "Data columns (total 3 columns):\n",
            " #   Column  Non-Null Count   Dtype              \n",
            "---  ------  --------------   -----              \n",
            " 0   Time    153443 non-null  datetime64[ns, UTC]\n",
            " 1   User    153443 non-null  object             \n",
            " 2   Tweet   153443 non-null  object             \n",
            "dtypes: datetime64[ns, UTC](1), object(2)\n",
            "memory usage: 4.7+ MB\n"
          ]
        }
      ]
    },
    {
      "cell_type": "code",
      "source": [
        "df['Time']= pd.to_datetime(df['Time'])"
      ],
      "metadata": {
        "id": "f3LZEqKcYLux"
      },
      "execution_count": 104,
      "outputs": []
    },
    {
      "cell_type": "markdown",
      "source": [
        "## CLEAN THE TWEETS\n",
        "Using [RegEx](https://regexr.com/), and core Python functions:\n",
        "- remove @usernames\n",
        "- remove http and https links\n",
        "- remove emojis 🙂\n",
        "- remove #hashtag sign but keep the text\n",
        "- remove duplicates\n",
        "\n",
        "Second function, using [NLTK](https://www.nltk.org/).\n",
        "- remove stopwords\n",
        "\n",
        "\n",
        "\n",
        "\n",
        "Resources:\n",
        "- https://stackoverflow.com/questions/64719706/cleaning-twitter-data-pandas-python\n",
        "- https://aronakhmad.medium.com/twitter-data-cleaning-using-python-db1ec2f28f08"
      ],
      "metadata": {
        "id": "VUV-t66FqiaF"
      }
    },
    {
      "cell_type": "code",
      "source": [
        "# define function for tweet cleaning\n",
        "def tweet_cleaner(tweet):\n",
        "  tweet = re.sub(\"@[A-Za-z0-9]+\",\"\",tweet) # remove @usernames\n",
        "  tweet = re.sub(r\"(?:\\@|http?\\://|https?\\://|www)\\S+\", \"\", tweet) # remove http links  \n",
        "  tweet = tweet.replace(\"#\", \"\").replace(\"_\", \" \") # remove hashtag sign but keep the text\n",
        "  tweet = emoji.replace_emoji(tweet) # remove Emojis\n",
        "  tweet = \" \".join(tweet.split()) # remove unecessary spaces\n",
        "  return tweet"
      ],
      "metadata": {
        "id": "TcWI4cmsxa7H"
      },
      "execution_count": 90,
      "outputs": []
    },
    {
      "cell_type": "code",
      "source": [
        "test = \"Hello @username http://www.google.it/ World! #hello_world 🙂\"\n",
        "print(tweet_cleaner(test))"
      ],
      "metadata": {
        "id": "9QYFdtwdx0PF",
        "outputId": "2ecdd232-a288-48fe-93bc-c268f922e24f",
        "colab": {
          "base_uri": "https://localhost:8080/"
        }
      },
      "execution_count": 91,
      "outputs": [
        {
          "output_type": "stream",
          "name": "stdout",
          "text": [
            "Hello World! hello world\n"
          ]
        }
      ]
    },
    {
      "cell_type": "code",
      "source": [
        "# define function for stopwords removing\n",
        "stop_words = stopwords.words('english') # load stopwords list for english language\n",
        "stop_words.remove('not') # remove 'not' from stopwords list\n",
        "def remove_stopwords(tweet):\n",
        "  tweet = \" \".join([word for word in tweet.split() if word not in stop_words])\n",
        "  return tweet"
      ],
      "metadata": {
        "id": "xuiOZpSHx-Gm"
      },
      "execution_count": 92,
      "outputs": []
    },
    {
      "cell_type": "code",
      "source": [
        "# clean the dataframe\n",
        "df_cleaned = df.copy()\n",
        "df_cleaned['Tweet'] = df_cleaned['Tweet'].map(lambda x: tweet_cleaner(x))\n",
        "df_cleaned['Tweet'] = df_cleaned['Tweet'].map(lambda x: remove_stopwords(x))"
      ],
      "metadata": {
        "id": "5eD9AlHOUBw0"
      },
      "execution_count": 106,
      "outputs": []
    },
    {
      "cell_type": "code",
      "source": [
        "# remove duplicate tweets\n",
        "df_cleaned = df_cleaned.drop_duplicates('Tweet', keep='first')"
      ],
      "metadata": {
        "id": "eZAaJaELVuPh"
      },
      "execution_count": 107,
      "outputs": []
    },
    {
      "cell_type": "code",
      "source": [
        "df_cleaned"
      ],
      "metadata": {
        "id": "FeQFSFdqWpaM",
        "outputId": "f85b7da1-2ee4-4729-c671-fbdc3974dfc3",
        "colab": {
          "base_uri": "https://localhost:8080/",
          "height": 424
        }
      },
      "execution_count": 108,
      "outputs": [
        {
          "output_type": "execute_result",
          "data": {
            "text/plain": [
              "                            Time             User  \\\n",
              "0      2020-01-01 23:49:16+00:00  JJClaptonWrites   \n",
              "1      2020-01-01 20:44:20+00:00        ClientSDL   \n",
              "2      2020-01-01 19:32:55+00:00   stinkingflower   \n",
              "3      2020-01-01 15:40:08+00:00   ITGovernanceEU   \n",
              "4      2020-01-01 14:04:15+00:00   PrepperWebsite   \n",
              "...                          ...              ...   \n",
              "153436 2020-12-30 10:09:21+00:00     KnightbusSci   \n",
              "153437 2020-12-30 10:04:35+00:00  Stafford_Global   \n",
              "153439 2020-12-30 10:00:47+00:00        MLUniKent   \n",
              "153440 2020-12-30 09:58:37+00:00  jurijkovalenok1   \n",
              "153441 2020-12-30 09:55:12+00:00  teachmiddleeast   \n",
              "\n",
              "                                                    Tweet  \n",
              "0       2012: year I finally give hope going uni I get...  \n",
              "1       SDL EducationandTraining Teaching LearningandD...  \n",
              "2       Davis At 58, I'm going 3rd Degree, masters his...  \n",
              "3       Distance learning offers cost effective altern...  \n",
              "4       INFOGRAPHIC: History Online Learning college d...  \n",
              "...                                                   ...  \n",
              "153436  Abu Dhabi schools - distance learning commence...  \n",
              "153437  The data industry offers lucrative career oppo...  \n",
              "153439  We hope enjoyed series posts reflecting highli...  \n",
              "153440  Oh Uncle Elon Musk ))) A engineering notes phy...  \n",
              "153441  All Abu Dhabi schools continue distance learni...  \n",
              "\n",
              "[140076 rows x 3 columns]"
            ],
            "text/html": [
              "\n",
              "  <div id=\"df-d197b899-04fb-49e1-8d57-1e9d37ac529b\">\n",
              "    <div class=\"colab-df-container\">\n",
              "      <div>\n",
              "<style scoped>\n",
              "    .dataframe tbody tr th:only-of-type {\n",
              "        vertical-align: middle;\n",
              "    }\n",
              "\n",
              "    .dataframe tbody tr th {\n",
              "        vertical-align: top;\n",
              "    }\n",
              "\n",
              "    .dataframe thead th {\n",
              "        text-align: right;\n",
              "    }\n",
              "</style>\n",
              "<table border=\"1\" class=\"dataframe\">\n",
              "  <thead>\n",
              "    <tr style=\"text-align: right;\">\n",
              "      <th></th>\n",
              "      <th>Time</th>\n",
              "      <th>User</th>\n",
              "      <th>Tweet</th>\n",
              "    </tr>\n",
              "  </thead>\n",
              "  <tbody>\n",
              "    <tr>\n",
              "      <th>0</th>\n",
              "      <td>2020-01-01 23:49:16+00:00</td>\n",
              "      <td>JJClaptonWrites</td>\n",
              "      <td>2012: year I finally give hope going uni I get...</td>\n",
              "    </tr>\n",
              "    <tr>\n",
              "      <th>1</th>\n",
              "      <td>2020-01-01 20:44:20+00:00</td>\n",
              "      <td>ClientSDL</td>\n",
              "      <td>SDL EducationandTraining Teaching LearningandD...</td>\n",
              "    </tr>\n",
              "    <tr>\n",
              "      <th>2</th>\n",
              "      <td>2020-01-01 19:32:55+00:00</td>\n",
              "      <td>stinkingflower</td>\n",
              "      <td>Davis At 58, I'm going 3rd Degree, masters his...</td>\n",
              "    </tr>\n",
              "    <tr>\n",
              "      <th>3</th>\n",
              "      <td>2020-01-01 15:40:08+00:00</td>\n",
              "      <td>ITGovernanceEU</td>\n",
              "      <td>Distance learning offers cost effective altern...</td>\n",
              "    </tr>\n",
              "    <tr>\n",
              "      <th>4</th>\n",
              "      <td>2020-01-01 14:04:15+00:00</td>\n",
              "      <td>PrepperWebsite</td>\n",
              "      <td>INFOGRAPHIC: History Online Learning college d...</td>\n",
              "    </tr>\n",
              "    <tr>\n",
              "      <th>...</th>\n",
              "      <td>...</td>\n",
              "      <td>...</td>\n",
              "      <td>...</td>\n",
              "    </tr>\n",
              "    <tr>\n",
              "      <th>153436</th>\n",
              "      <td>2020-12-30 10:09:21+00:00</td>\n",
              "      <td>KnightbusSci</td>\n",
              "      <td>Abu Dhabi schools - distance learning commence...</td>\n",
              "    </tr>\n",
              "    <tr>\n",
              "      <th>153437</th>\n",
              "      <td>2020-12-30 10:04:35+00:00</td>\n",
              "      <td>Stafford_Global</td>\n",
              "      <td>The data industry offers lucrative career oppo...</td>\n",
              "    </tr>\n",
              "    <tr>\n",
              "      <th>153439</th>\n",
              "      <td>2020-12-30 10:00:47+00:00</td>\n",
              "      <td>MLUniKent</td>\n",
              "      <td>We hope enjoyed series posts reflecting highli...</td>\n",
              "    </tr>\n",
              "    <tr>\n",
              "      <th>153440</th>\n",
              "      <td>2020-12-30 09:58:37+00:00</td>\n",
              "      <td>jurijkovalenok1</td>\n",
              "      <td>Oh Uncle Elon Musk ))) A engineering notes phy...</td>\n",
              "    </tr>\n",
              "    <tr>\n",
              "      <th>153441</th>\n",
              "      <td>2020-12-30 09:55:12+00:00</td>\n",
              "      <td>teachmiddleeast</td>\n",
              "      <td>All Abu Dhabi schools continue distance learni...</td>\n",
              "    </tr>\n",
              "  </tbody>\n",
              "</table>\n",
              "<p>140076 rows × 3 columns</p>\n",
              "</div>\n",
              "      <button class=\"colab-df-convert\" onclick=\"convertToInteractive('df-d197b899-04fb-49e1-8d57-1e9d37ac529b')\"\n",
              "              title=\"Convert this dataframe to an interactive table.\"\n",
              "              style=\"display:none;\">\n",
              "        \n",
              "  <svg xmlns=\"http://www.w3.org/2000/svg\" height=\"24px\"viewBox=\"0 0 24 24\"\n",
              "       width=\"24px\">\n",
              "    <path d=\"M0 0h24v24H0V0z\" fill=\"none\"/>\n",
              "    <path d=\"M18.56 5.44l.94 2.06.94-2.06 2.06-.94-2.06-.94-.94-2.06-.94 2.06-2.06.94zm-11 1L8.5 8.5l.94-2.06 2.06-.94-2.06-.94L8.5 2.5l-.94 2.06-2.06.94zm10 10l.94 2.06.94-2.06 2.06-.94-2.06-.94-.94-2.06-.94 2.06-2.06.94z\"/><path d=\"M17.41 7.96l-1.37-1.37c-.4-.4-.92-.59-1.43-.59-.52 0-1.04.2-1.43.59L10.3 9.45l-7.72 7.72c-.78.78-.78 2.05 0 2.83L4 21.41c.39.39.9.59 1.41.59.51 0 1.02-.2 1.41-.59l7.78-7.78 2.81-2.81c.8-.78.8-2.07 0-2.86zM5.41 20L4 18.59l7.72-7.72 1.47 1.35L5.41 20z\"/>\n",
              "  </svg>\n",
              "      </button>\n",
              "      \n",
              "  <style>\n",
              "    .colab-df-container {\n",
              "      display:flex;\n",
              "      flex-wrap:wrap;\n",
              "      gap: 12px;\n",
              "    }\n",
              "\n",
              "    .colab-df-convert {\n",
              "      background-color: #E8F0FE;\n",
              "      border: none;\n",
              "      border-radius: 50%;\n",
              "      cursor: pointer;\n",
              "      display: none;\n",
              "      fill: #1967D2;\n",
              "      height: 32px;\n",
              "      padding: 0 0 0 0;\n",
              "      width: 32px;\n",
              "    }\n",
              "\n",
              "    .colab-df-convert:hover {\n",
              "      background-color: #E2EBFA;\n",
              "      box-shadow: 0px 1px 2px rgba(60, 64, 67, 0.3), 0px 1px 3px 1px rgba(60, 64, 67, 0.15);\n",
              "      fill: #174EA6;\n",
              "    }\n",
              "\n",
              "    [theme=dark] .colab-df-convert {\n",
              "      background-color: #3B4455;\n",
              "      fill: #D2E3FC;\n",
              "    }\n",
              "\n",
              "    [theme=dark] .colab-df-convert:hover {\n",
              "      background-color: #434B5C;\n",
              "      box-shadow: 0px 1px 3px 1px rgba(0, 0, 0, 0.15);\n",
              "      filter: drop-shadow(0px 1px 2px rgba(0, 0, 0, 0.3));\n",
              "      fill: #FFFFFF;\n",
              "    }\n",
              "  </style>\n",
              "\n",
              "      <script>\n",
              "        const buttonEl =\n",
              "          document.querySelector('#df-d197b899-04fb-49e1-8d57-1e9d37ac529b button.colab-df-convert');\n",
              "        buttonEl.style.display =\n",
              "          google.colab.kernel.accessAllowed ? 'block' : 'none';\n",
              "\n",
              "        async function convertToInteractive(key) {\n",
              "          const element = document.querySelector('#df-d197b899-04fb-49e1-8d57-1e9d37ac529b');\n",
              "          const dataTable =\n",
              "            await google.colab.kernel.invokeFunction('convertToInteractive',\n",
              "                                                     [key], {});\n",
              "          if (!dataTable) return;\n",
              "\n",
              "          const docLinkHtml = 'Like what you see? Visit the ' +\n",
              "            '<a target=\"_blank\" href=https://colab.research.google.com/notebooks/data_table.ipynb>data table notebook</a>'\n",
              "            + ' to learn more about interactive tables.';\n",
              "          element.innerHTML = '';\n",
              "          dataTable['output_type'] = 'display_data';\n",
              "          await google.colab.output.renderOutput(dataTable, element);\n",
              "          const docLink = document.createElement('div');\n",
              "          docLink.innerHTML = docLinkHtml;\n",
              "          element.appendChild(docLink);\n",
              "        }\n",
              "      </script>\n",
              "    </div>\n",
              "  </div>\n",
              "  "
            ]
          },
          "metadata": {},
          "execution_count": 108
        }
      ]
    },
    {
      "cell_type": "markdown",
      "source": [
        "## Exploratory Data Analysis\n",
        "\n",
        "Resources:\n",
        "- https://towardsdatascience.com/8-visualizations-with-python-to-handle-multiple-time-series-data-19b5b2e66dd0\n",
        "- https://www.dataquest.io/blog/tutorial-time-series-analysis-with-pandas/"
      ],
      "metadata": {
        "id": "cbeZPu4WoXrg"
      }
    },
    {
      "cell_type": "code",
      "source": [
        "tweets_per_day = df_cleaned.groupby([df_cleaned['Time'].dt.date]).size()\n",
        "tweets_per_day = tweets_per_day.reindex(pd.DatetimeIndex(tweets_per_day.index))"
      ],
      "metadata": {
        "id": "uz0PHANfV20B"
      },
      "execution_count": 150,
      "outputs": []
    },
    {
      "cell_type": "code",
      "source": [
        "weekly_mean = tweets_per_day.resample('W').mean()"
      ],
      "metadata": {
        "id": "OpTx6BycwQxb"
      },
      "execution_count": null,
      "outputs": []
    },
    {
      "cell_type": "code",
      "source": [
        "# concatenate the dataframes\n",
        "concatenated = pd.concat([tweets_per_day.assign(dataset='set1'), weekly_mean.assign(dataset='set2')])"
      ],
      "metadata": {
        "id": "9JqSkR0uyX0w",
        "outputId": "6929236a-bd1b-4fa1-d247-890c49f8e960",
        "colab": {
          "base_uri": "https://localhost:8080/",
          "height": 304
        }
      },
      "execution_count": 164,
      "outputs": [
        {
          "output_type": "error",
          "ename": "AttributeError",
          "evalue": "ignored",
          "traceback": [
            "\u001b[0;31m---------------------------------------------------------------------------\u001b[0m",
            "\u001b[0;31mAttributeError\u001b[0m                            Traceback (most recent call last)",
            "\u001b[0;32m<ipython-input-164-d900eb038c2e>\u001b[0m in \u001b[0;36m<module>\u001b[0;34m()\u001b[0m\n\u001b[1;32m      1\u001b[0m \u001b[0;31m# concatenate the dataframes\u001b[0m\u001b[0;34m\u001b[0m\u001b[0;34m\u001b[0m\u001b[0;34m\u001b[0m\u001b[0m\n\u001b[0;32m----> 2\u001b[0;31m \u001b[0mconcatenated\u001b[0m \u001b[0;34m=\u001b[0m \u001b[0mpd\u001b[0m\u001b[0;34m.\u001b[0m\u001b[0mconcat\u001b[0m\u001b[0;34m(\u001b[0m\u001b[0;34m[\u001b[0m\u001b[0mtweets_per_day\u001b[0m\u001b[0;34m.\u001b[0m\u001b[0massign\u001b[0m\u001b[0;34m(\u001b[0m\u001b[0mdataset\u001b[0m\u001b[0;34m=\u001b[0m\u001b[0;34m'set1'\u001b[0m\u001b[0;34m)\u001b[0m\u001b[0;34m,\u001b[0m \u001b[0mweekly_mean\u001b[0m\u001b[0;34m.\u001b[0m\u001b[0massign\u001b[0m\u001b[0;34m(\u001b[0m\u001b[0mdataset\u001b[0m\u001b[0;34m=\u001b[0m\u001b[0;34m'set2'\u001b[0m\u001b[0;34m)\u001b[0m\u001b[0;34m]\u001b[0m\u001b[0;34m)\u001b[0m\u001b[0;34m\u001b[0m\u001b[0;34m\u001b[0m\u001b[0m\n\u001b[0m",
            "\u001b[0;32m/usr/local/lib/python3.7/dist-packages/pandas/core/generic.py\u001b[0m in \u001b[0;36m__getattr__\u001b[0;34m(self, name)\u001b[0m\n\u001b[1;32m   5485\u001b[0m         ):\n\u001b[1;32m   5486\u001b[0m             \u001b[0;32mreturn\u001b[0m \u001b[0mself\u001b[0m\u001b[0;34m[\u001b[0m\u001b[0mname\u001b[0m\u001b[0;34m]\u001b[0m\u001b[0;34m\u001b[0m\u001b[0;34m\u001b[0m\u001b[0m\n\u001b[0;32m-> 5487\u001b[0;31m         \u001b[0;32mreturn\u001b[0m \u001b[0mobject\u001b[0m\u001b[0;34m.\u001b[0m\u001b[0m__getattribute__\u001b[0m\u001b[0;34m(\u001b[0m\u001b[0mself\u001b[0m\u001b[0;34m,\u001b[0m \u001b[0mname\u001b[0m\u001b[0;34m)\u001b[0m\u001b[0;34m\u001b[0m\u001b[0;34m\u001b[0m\u001b[0m\n\u001b[0m\u001b[1;32m   5488\u001b[0m \u001b[0;34m\u001b[0m\u001b[0m\n\u001b[1;32m   5489\u001b[0m     \u001b[0;32mdef\u001b[0m \u001b[0m__setattr__\u001b[0m\u001b[0;34m(\u001b[0m\u001b[0mself\u001b[0m\u001b[0;34m,\u001b[0m \u001b[0mname\u001b[0m\u001b[0;34m:\u001b[0m \u001b[0mstr\u001b[0m\u001b[0;34m,\u001b[0m \u001b[0mvalue\u001b[0m\u001b[0;34m)\u001b[0m \u001b[0;34m->\u001b[0m \u001b[0;32mNone\u001b[0m\u001b[0;34m:\u001b[0m\u001b[0;34m\u001b[0m\u001b[0;34m\u001b[0m\u001b[0m\n",
            "\u001b[0;31mAttributeError\u001b[0m: 'Series' object has no attribute 'assign'"
          ]
        }
      ]
    },
    {
      "cell_type": "code",
      "source": [
        "#sns.set_style('darkgrid')\n",
        "#sns.set_style('darkgrid')\n",
        "#fig, ax = plt.subplots()\n",
        "#sns.set_palette('crest')\n",
        "plt.figure()\n",
        "sns.relplot(data=tweets_per_day, kind='line')\n",
        "sns.relplot(data=weekly_mean, kind='line')"
      ],
      "metadata": {
        "id": "U0Xw-ePFaBVD",
        "outputId": "d1a17cf8-5ac1-4ade-9a44-9f738ca52ec4",
        "colab": {
          "base_uri": "https://localhost:8080/",
          "height": 748
        }
      },
      "execution_count": 168,
      "outputs": [
        {
          "output_type": "execute_result",
          "data": {
            "text/plain": [
              "<seaborn.axisgrid.FacetGrid at 0x7f02a4813fd0>"
            ]
          },
          "metadata": {},
          "execution_count": 168
        },
        {
          "output_type": "display_data",
          "data": {
            "text/plain": [
              "<Figure size 1008x576 with 0 Axes>"
            ]
          },
          "metadata": {}
        },
        {
          "output_type": "display_data",
          "data": {
            "text/plain": [
              "<Figure size 360x360 with 1 Axes>"
            ],
            "image/png": "[encoded data removed]"
          },
          "metadata": {}
        },
        {
          "output_type": "display_data",
          "data": {
            "text/plain": [
              "<Figure size 360x360 with 1 Axes>"
            ],
            "image/png": "[encoded data removed]"
          },
          "metadata": {}
        }
      ]
    },
    {
      "cell_type": "code",
      "source": [
        ""
      ],
      "metadata": {
        "id": "C617PQquq4PR"
      },
      "execution_count": 152,
      "outputs": []
    },
    {
      "cell_type": "code",
      "source": [
        ""
      ],
      "metadata": {
        "id": "5hSYsYa2wGYa"
      },
      "execution_count": null,
      "outputs": []
    }
  ]
}