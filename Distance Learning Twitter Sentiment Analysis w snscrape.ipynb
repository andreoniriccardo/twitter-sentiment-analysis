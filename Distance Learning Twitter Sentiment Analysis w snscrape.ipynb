{
  "nbformat": 4,
  "nbformat_minor": 0,
  "metadata": {
    "colab": {
      "name": "Distance Learning Twitter Sentiment Analysis w snscrape.ipynb",
      "provenance": [],
      "authorship_tag": "ABX9TyNpls6E9SfFQHYPi/P/SDxf",
      "include_colab_link": true
    },
    "kernelspec": {
      "name": "python3",
      "display_name": "Python 3"
    },
    "language_info": {
      "name": "python"
    }
  },
  "cells": [
    {
      "cell_type": "markdown",
      "metadata": {
        "id": "view-in-github",
        "colab_type": "text"
      },
      "source": [
        "<a href=\"https://colab.research.google.com/github/andreoniriccardo/twitter-sentiment-analysis/blob/main/Distance%20Learning%20Twitter%20Sentiment%20Analysis%20w%20snscrape.ipynb\" target=\"_parent\"><img src=\"https://colab.research.google.com/assets/colab-badge.svg\" alt=\"Open In Colab\"/></a>"
      ]
    },
    {
      "cell_type": "code",
      "source": [
        "# install snscrape\n",
        "!pip install snscrape"
      ],
      "metadata": {
        "colab": {
          "base_uri": "https://localhost:8080/"
        },
        "id": "EgTdk8P2TLni",
        "outputId": "4bc39bb4-0434-4eea-8573-dacd47dc79d9"
      },
      "execution_count": 1,
      "outputs": [
        {
          "output_type": "stream",
          "name": "stdout",
          "text": [
            "Looking in indexes: https://pypi.org/simple, https://us-python.pkg.dev/colab-wheels/public/simple/\n",
            "Collecting snscrape\n",
            "  Downloading snscrape-0.3.4-py3-none-any.whl (35 kB)\n",
            "Requirement already satisfied: lxml in /usr/local/lib/python3.7/dist-packages (from snscrape) (4.2.6)\n",
            "Requirement already satisfied: requests[socks] in /usr/local/lib/python3.7/dist-packages (from snscrape) (2.23.0)\n",
            "Requirement already satisfied: beautifulsoup4 in /usr/local/lib/python3.7/dist-packages (from snscrape) (4.6.3)\n",
            "Requirement already satisfied: chardet<4,>=3.0.2 in /usr/local/lib/python3.7/dist-packages (from requests[socks]->snscrape) (3.0.4)\n",
            "Requirement already satisfied: certifi>=2017.4.17 in /usr/local/lib/python3.7/dist-packages (from requests[socks]->snscrape) (2022.6.15)\n",
            "Requirement already satisfied: urllib3!=1.25.0,!=1.25.1,<1.26,>=1.21.1 in /usr/local/lib/python3.7/dist-packages (from requests[socks]->snscrape) (1.24.3)\n",
            "Requirement already satisfied: idna<3,>=2.5 in /usr/local/lib/python3.7/dist-packages (from requests[socks]->snscrape) (2.10)\n",
            "Requirement already satisfied: PySocks!=1.5.7,>=1.5.6 in /usr/local/lib/python3.7/dist-packages (from requests[socks]->snscrape) (1.7.1)\n",
            "Installing collected packages: snscrape\n",
            "Successfully installed snscrape-0.3.4\n"
          ]
        }
      ]
    },
    {
      "cell_type": "code",
      "execution_count": 14,
      "metadata": {
        "id": "_GBUmKJxSs2G"
      },
      "outputs": [],
      "source": [
        "# import required libraries\n",
        "import snscrape.modules.twitter as sntwitter\n",
        "import pandas as pd\n",
        "from IPython.display import clear_output"
      ]
    },
    {
      "cell_type": "code",
      "source": [
        "# define function to retrieve tweets for a defined day and topic\n",
        "def fetch_tweets(query='a', n_of_tweets='100', language='en', from_date='2020-01-01', to_date='2020-12-31'):\n",
        "  query = str(query)\n",
        "  # combine the query string\n",
        "  query_str = query + \" lang:\" + language + \" until:\" + to_date + \" since:\" + from_date\n",
        "  \n",
        "  # fetch the tweets\n",
        "  tweets_list = []\n",
        "  for tweet in sntwitter.TwitterSearchScraper(query_str).get_items():\n",
        "    if len(tweets_list) == n_of_tweets:\n",
        "        break\n",
        "    else:\n",
        "        tweets_list.append([tweet.date, tweet.username, tweet.content])\n",
        "  \n",
        "  # store the tweets in a df\n",
        "  columns = ['Time', 'User', 'Tweet']\n",
        "  df = pd.DataFrame(tweets_list, columns=columns)\n",
        "  return df"
      ],
      "metadata": {
        "id": "CJCbkk0YUMvR"
      },
      "execution_count": 8,
      "outputs": []
    },
    {
      "cell_type": "code",
      "source": [
        "# create dates array\n",
        "dates = list(pd.date_range(start='01/01/20', end='12/31/20'))\n",
        "\n",
        "def toYYYYMMDDmmmm(my_date):\n",
        "  my_date = my_date.strftime(\"%Y-%m-%d\")\n",
        "  return my_date\n",
        "\n",
        "dates_UTC = list(map(toYYYYMMDDmmmm, dates))"
      ],
      "metadata": {
        "id": "4KzgYA1FUgHA"
      },
      "execution_count": 9,
      "outputs": []
    },
    {
      "cell_type": "markdown",
      "source": [
        "**Attention!** Only run the following cell if you don't have a pre-saved dataframe.\n",
        "If you already have a dataset, skip to the \"load pre-saved dataframe\" cell."
      ],
      "metadata": {
        "id": "XNeO2FELj8s1"
      }
    },
    {
      "cell_type": "code",
      "source": [
        "# fetch the tweets\n",
        "# specity query topic and number of tweets per period\n",
        "query = 'distance learning'\n",
        "n_of_tweets = 500\n",
        "\n",
        "# initialize df\n",
        "columns = ['Time', 'User', 'Tweet']\n",
        "df = pd.DataFrame(columns=columns)\n",
        "\n",
        "for i in range(0, len(dates_UTC)-1):\n",
        "  # specify from and to date\n",
        "  from_date = dates_UTC[i]\n",
        "  to_date = dates_UTC[i+1]\n",
        "\n",
        "  current_df = fetch_tweets(query=query, n_of_tweets=n_of_tweets, language='en', from_date=from_date, to_date=to_date)\n",
        "  df = pd.concat([df, current_df], ignore_index=True)\n",
        "  clear_output(wait=True)\n",
        "  print(i, \"/\", len(dates_UTC)-1)"
      ],
      "metadata": {
        "id": "jStnMKIaVjwH",
        "outputId": "71fa0537-5cea-48a6-85cc-6cc8ae27eff4",
        "colab": {
          "base_uri": "https://localhost:8080/"
        }
      },
      "execution_count": 16,
      "outputs": [
        {
          "output_type": "stream",
          "name": "stdout",
          "text": [
            "364 / 365\n"
          ]
        }
      ]
    },
    {
      "cell_type": "code",
      "source": [
        "# preview of the dataframe \n",
        "df.head()"
      ],
      "metadata": {
        "id": "CsZgi_gwazgX",
        "outputId": "2dc0e562-9b32-4240-887d-b80ad71a176e",
        "colab": {
          "base_uri": "https://localhost:8080/",
          "height": 206
        }
      },
      "execution_count": 18,
      "outputs": [
        {
          "output_type": "execute_result",
          "data": {
            "text/plain": [
              "                       Time             User  \\\n",
              "0 2020-01-01 23:49:16+00:00  JJClaptonWrites   \n",
              "1 2020-01-01 20:44:20+00:00        ClientSDL   \n",
              "2 2020-01-01 19:32:55+00:00   stinkingflower   \n",
              "3 2020-01-01 15:40:08+00:00   ITGovernanceEU   \n",
              "4 2020-01-01 14:04:15+00:00   PrepperWebsite   \n",
              "\n",
              "                                               Tweet  \n",
              "0  2012: the year I finally had to give up any ho...  \n",
              "1  SDL for #EducationandTraining #Teaching #Learn...  \n",
              "2  @Ali_Davis At 58, I'm going for my 3rd Degree,...  \n",
              "3  📚 Distance learning offers you a cost effectiv...  \n",
              "4  INFOGRAPHIC: #History of Online Learning https...  "
            ],
            "text/html": [
              "\n",
              "  <div id=\"df-df4d44e9-8cef-4756-a56f-1f2d7c8c09e3\">\n",
              "    <div class=\"colab-df-container\">\n",
              "      <div>\n",
              "<style scoped>\n",
              "    .dataframe tbody tr th:only-of-type {\n",
              "        vertical-align: middle;\n",
              "    }\n",
              "\n",
              "    .dataframe tbody tr th {\n",
              "        vertical-align: top;\n",
              "    }\n",
              "\n",
              "    .dataframe thead th {\n",
              "        text-align: right;\n",
              "    }\n",
              "</style>\n",
              "<table border=\"1\" class=\"dataframe\">\n",
              "  <thead>\n",
              "    <tr style=\"text-align: right;\">\n",
              "      <th></th>\n",
              "      <th>Time</th>\n",
              "      <th>User</th>\n",
              "      <th>Tweet</th>\n",
              "    </tr>\n",
              "  </thead>\n",
              "  <tbody>\n",
              "    <tr>\n",
              "      <th>0</th>\n",
              "      <td>2020-01-01 23:49:16+00:00</td>\n",
              "      <td>JJClaptonWrites</td>\n",
              "      <td>2012: the year I finally had to give up any ho...</td>\n",
              "    </tr>\n",
              "    <tr>\n",
              "      <th>1</th>\n",
              "      <td>2020-01-01 20:44:20+00:00</td>\n",
              "      <td>ClientSDL</td>\n",
              "      <td>SDL for #EducationandTraining #Teaching #Learn...</td>\n",
              "    </tr>\n",
              "    <tr>\n",
              "      <th>2</th>\n",
              "      <td>2020-01-01 19:32:55+00:00</td>\n",
              "      <td>stinkingflower</td>\n",
              "      <td>@Ali_Davis At 58, I'm going for my 3rd Degree,...</td>\n",
              "    </tr>\n",
              "    <tr>\n",
              "      <th>3</th>\n",
              "      <td>2020-01-01 15:40:08+00:00</td>\n",
              "      <td>ITGovernanceEU</td>\n",
              "      <td>📚 Distance learning offers you a cost effectiv...</td>\n",
              "    </tr>\n",
              "    <tr>\n",
              "      <th>4</th>\n",
              "      <td>2020-01-01 14:04:15+00:00</td>\n",
              "      <td>PrepperWebsite</td>\n",
              "      <td>INFOGRAPHIC: #History of Online Learning https...</td>\n",
              "    </tr>\n",
              "  </tbody>\n",
              "</table>\n",
              "</div>\n",
              "      <button class=\"colab-df-convert\" onclick=\"convertToInteractive('df-df4d44e9-8cef-4756-a56f-1f2d7c8c09e3')\"\n",
              "              title=\"Convert this dataframe to an interactive table.\"\n",
              "              style=\"display:none;\">\n",
              "        \n",
              "  <svg xmlns=\"http://www.w3.org/2000/svg\" height=\"24px\"viewBox=\"0 0 24 24\"\n",
              "       width=\"24px\">\n",
              "    <path d=\"M0 0h24v24H0V0z\" fill=\"none\"/>\n",
              "    <path d=\"M18.56 5.44l.94 2.06.94-2.06 2.06-.94-2.06-.94-.94-2.06-.94 2.06-2.06.94zm-11 1L8.5 8.5l.94-2.06 2.06-.94-2.06-.94L8.5 2.5l-.94 2.06-2.06.94zm10 10l.94 2.06.94-2.06 2.06-.94-2.06-.94-.94-2.06-.94 2.06-2.06.94z\"/><path d=\"M17.41 7.96l-1.37-1.37c-.4-.4-.92-.59-1.43-.59-.52 0-1.04.2-1.43.59L10.3 9.45l-7.72 7.72c-.78.78-.78 2.05 0 2.83L4 21.41c.39.39.9.59 1.41.59.51 0 1.02-.2 1.41-.59l7.78-7.78 2.81-2.81c.8-.78.8-2.07 0-2.86zM5.41 20L4 18.59l7.72-7.72 1.47 1.35L5.41 20z\"/>\n",
              "  </svg>\n",
              "      </button>\n",
              "      \n",
              "  <style>\n",
              "    .colab-df-container {\n",
              "      display:flex;\n",
              "      flex-wrap:wrap;\n",
              "      gap: 12px;\n",
              "    }\n",
              "\n",
              "    .colab-df-convert {\n",
              "      background-color: #E8F0FE;\n",
              "      border: none;\n",
              "      border-radius: 50%;\n",
              "      cursor: pointer;\n",
              "      display: none;\n",
              "      fill: #1967D2;\n",
              "      height: 32px;\n",
              "      padding: 0 0 0 0;\n",
              "      width: 32px;\n",
              "    }\n",
              "\n",
              "    .colab-df-convert:hover {\n",
              "      background-color: #E2EBFA;\n",
              "      box-shadow: 0px 1px 2px rgba(60, 64, 67, 0.3), 0px 1px 3px 1px rgba(60, 64, 67, 0.15);\n",
              "      fill: #174EA6;\n",
              "    }\n",
              "\n",
              "    [theme=dark] .colab-df-convert {\n",
              "      background-color: #3B4455;\n",
              "      fill: #D2E3FC;\n",
              "    }\n",
              "\n",
              "    [theme=dark] .colab-df-convert:hover {\n",
              "      background-color: #434B5C;\n",
              "      box-shadow: 0px 1px 3px 1px rgba(0, 0, 0, 0.15);\n",
              "      filter: drop-shadow(0px 1px 2px rgba(0, 0, 0, 0.3));\n",
              "      fill: #FFFFFF;\n",
              "    }\n",
              "  </style>\n",
              "\n",
              "      <script>\n",
              "        const buttonEl =\n",
              "          document.querySelector('#df-df4d44e9-8cef-4756-a56f-1f2d7c8c09e3 button.colab-df-convert');\n",
              "        buttonEl.style.display =\n",
              "          google.colab.kernel.accessAllowed ? 'block' : 'none';\n",
              "\n",
              "        async function convertToInteractive(key) {\n",
              "          const element = document.querySelector('#df-df4d44e9-8cef-4756-a56f-1f2d7c8c09e3');\n",
              "          const dataTable =\n",
              "            await google.colab.kernel.invokeFunction('convertToInteractive',\n",
              "                                                     [key], {});\n",
              "          if (!dataTable) return;\n",
              "\n",
              "          const docLinkHtml = 'Like what you see? Visit the ' +\n",
              "            '<a target=\"_blank\" href=https://colab.research.google.com/notebooks/data_table.ipynb>data table notebook</a>'\n",
              "            + ' to learn more about interactive tables.';\n",
              "          element.innerHTML = '';\n",
              "          dataTable['output_type'] = 'display_data';\n",
              "          await google.colab.output.renderOutput(dataTable, element);\n",
              "          const docLink = document.createElement('div');\n",
              "          docLink.innerHTML = docLinkHtml;\n",
              "          element.appendChild(docLink);\n",
              "        }\n",
              "      </script>\n",
              "    </div>\n",
              "  </div>\n",
              "  "
            ]
          },
          "metadata": {},
          "execution_count": 18
        }
      ]
    },
    {
      "cell_type": "code",
      "source": [
        "# export df as csv file\n",
        "df.to_csv('distance_learning_df.csv')"
      ],
      "metadata": {
        "id": "VmCfMGiSe7La"
      },
      "execution_count": 19,
      "outputs": []
    },
    {
      "cell_type": "code",
      "source": [
        "# load pre-saved dataframe\n",
        "df = pd.read_csv(\"500_per_day.csv\")"
      ],
      "metadata": {
        "id": "Yvk5Z2AIjc9W"
      },
      "execution_count": null,
      "outputs": []
    },
    {
      "cell_type": "markdown",
      "source": [
        ""
      ],
      "metadata": {
        "id": "VUV-t66FqiaF"
      }
    }
  ]
}