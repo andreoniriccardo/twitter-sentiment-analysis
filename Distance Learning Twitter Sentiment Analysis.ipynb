{
  "cells": [
    {
      "cell_type": "markdown",
      "source": [
        "What I want?\n",
        "- readme con la descrizione del progetto. vedi anche https://www.nature.com/articles/s41598-022-12915-w#auth-Patrizia-Agati\n",
        "- parte di autenticazione API, vedere come mettere in modo sicuro le chiavi\n",
        "- parte di definizione di cosa cercare \"distance learning\"\n",
        "- parte di ricerca dei tweet\n",
        "- parte di organizzazione del DF e pulizia dei tweet (remove stopwords vedi articolo https://www.analyticsvidhya.com/blog/2021/06/twitter-sentiment-analysis-a-nlp-use-case-for-beginners/, remove emojis, lowercase for better generalization, remove punctuation to reduce noise, remove urls)\n",
        "- parte di sentiment analysis con algoritmo machine learning NLP\n",
        "\n",
        "Che output voglio:\n",
        "- number of tweets over time\n",
        "- emozione collegata ai tweet https://www.nature.com/articles/s41598-022-12915-w/figures/5\n",
        "- torta con la % di positivi negativi e neutri\n",
        "- cloud of words (vedi anche https://www.analyticsvidhya.com/blog/2021/06/twitter-sentiment-analysis-a-nlp-use-case-for-beginners/)\n",
        "\n",
        "Resources:\n",
        "https://github.com/tweepy/tweepy/issues/1461"
      ],
      "metadata": {
        "id": "mOXgPeqPOxS_"
      },
      "id": "mOXgPeqPOxS_"
    },
    {
      "cell_type": "code",
      "source": [
        "# import required libraries\n",
        "import tweepy\n",
        "import pandas as pd\n",
        "import datetime as dt"
      ],
      "metadata": {
        "id": "OqgplW1HYTxf"
      },
      "id": "OqgplW1HYTxf",
      "execution_count": 1,
      "outputs": []
    },
    {
      "cell_type": "code",
      "source": [
        "# declare Twitter API keys and tokens\n",
        "api_key = \"oYiJRI9EDdUTXdK7gtjGHIUbY\"\n",
        "api_key_secret = \"qL6BGUq3EPXkLMTS0XWiUvDrLQb5S6ISKuWzeSBgADalUCSrTr\"\n",
        "\n",
        "access_token = \"1543856420185161728-w3tLGDH6pCuPf3heoBI8k42SOYU0w4\"\n",
        "access_token_secret = \"yKcz3LIdwPWbOg4fssaYOTiNaEGhCY419sVUAH5HJjk66\""
      ],
      "metadata": {
        "id": "LyxtApniYVoz"
      },
      "id": "LyxtApniYVoz",
      "execution_count": 63,
      "outputs": []
    },
    {
      "cell_type": "code",
      "source": [
        "# get authentication\n",
        "auth = tweepy.OAuthHandler(api_key, api_key_secret)\n",
        "auth.set_access_token(access_token, access_token_secret)"
      ],
      "metadata": {
        "id": "YN1IGovmYv_7"
      },
      "id": "YN1IGovmYv_7",
      "execution_count": 64,
      "outputs": []
    },
    {
      "cell_type": "code",
      "source": [
        "# create API object\n",
        "api = tweepy.API(auth, wait_on_rate_limit=True)"
      ],
      "metadata": {
        "id": "4p24E-pkZN4Z"
      },
      "id": "4p24E-pkZN4Z",
      "execution_count": 65,
      "outputs": []
    },
    {
      "cell_type": "code",
      "source": [
        "# test API connection\n",
        "me = api.me()\n",
        "print(me.screen_name)"
      ],
      "metadata": {
        "colab": {
          "base_uri": "https://localhost:8080/"
        },
        "id": "CtQLzVCTZTqa",
        "outputId": "216fe1c1-8124-4fe7-89a8-b1b15247f167"
      },
      "id": "CtQLzVCTZTqa",
      "execution_count": 66,
      "outputs": [
        {
          "output_type": "stream",
          "name": "stdout",
          "text": [
            "r_andreoni0\n"
          ]
        }
      ]
    },
    {
      "cell_type": "code",
      "source": [
        "# define function to retrieve tweets for a defined day and topic\n",
        "def fetch_tweets(query, to_date, n_of_tweets):\n",
        "  query = str(query)\n",
        "  tweets_list = []\n",
        "  param_args = {\n",
        "    'q': query,\n",
        "    'lang': 'en',\n",
        "    'until': to_date,\n",
        "    'result_type': 'recent'\n",
        "  }\n",
        "  \n",
        "  tweets = tweepy.Cursor(api.search, **param_args).items(n_of_tweets)\n",
        "\n",
        "  columns = ['Time', 'User', 'Tweet']\n",
        "  for tweet in tweets:\n",
        "    tweets_list.append([tweet.created_at, tweet.user.screen_name, tweet.text])\n",
        "      \n",
        "  df = pd.DataFrame(tweets_list, columns=columns)\n",
        "\n",
        "  return df"
      ],
      "metadata": {
        "id": "9fGLdSASf9qS"
      },
      "id": "9fGLdSASf9qS",
      "execution_count": 125,
      "outputs": []
    },
    {
      "cell_type": "code",
      "source": [
        "# create dates array\n",
        "dates = list(pd.date_range(start='06/20/22', end='07/06/22'))\n",
        "\n",
        "def toYYYYMMDDmmmm(my_date):\n",
        "  my_date = my_date.strftime(\"%Y-%m-%d\")\n",
        "  return my_date\n",
        "\n",
        "dates_UTC = list(map(toYYYYMMDDmmmm, dates))"
      ],
      "metadata": {
        "id": "mHrY1fTEWXs6"
      },
      "id": "mHrY1fTEWXs6",
      "execution_count": 118,
      "outputs": []
    },
    {
      "cell_type": "code",
      "source": [
        "# fetch the tweets\n",
        "\n",
        "# specity query and number of tweets per period\n",
        "query = 'bill gates'\n",
        "n_of_tweets = 500\n",
        "\n",
        "# initialize df\n",
        "columns = ['Time', 'User', 'Tweet']\n",
        "df = pd.DataFrame(columns=columns)\n",
        "\n",
        "for i in range(0, len(dates_UTC)):\n",
        "  # specify end date\n",
        "  to_date = dates_UTC[i]\n",
        "\n",
        "  current_df = fetch_tweets(query, to_date, n_of_tweets)\n",
        "\n",
        "  df = pd.concat([df, current_df], ignore_index=True)\n",
        "  print(i)"
      ],
      "metadata": {
        "id": "ANu2yJWmZeTQ",
        "outputId": "976c8b09-a495-43b4-c93e-629753ae5011",
        "colab": {
          "base_uri": "https://localhost:8080/"
        }
      },
      "id": "ANu2yJWmZeTQ",
      "execution_count": 126,
      "outputs": [
        {
          "output_type": "stream",
          "name": "stdout",
          "text": [
            "0\n",
            "1\n",
            "2\n",
            "3\n",
            "4\n",
            "5\n",
            "6\n",
            "7\n",
            "8\n",
            "9\n",
            "10\n",
            "11\n",
            "12\n",
            "13\n",
            "14\n",
            "15\n",
            "16\n"
          ]
        }
      ]
    },
    {
      "cell_type": "code",
      "source": [
        "# save the dataframe\n",
        "df.to_csv('tweets_500.csv')"
      ],
      "metadata": {
        "id": "yqucD6efbdh6"
      },
      "id": "yqucD6efbdh6",
      "execution_count": 128,
      "outputs": []
    },
    {
      "cell_type": "code",
      "source": [
        ""
      ],
      "metadata": {
        "id": "6BMXKEyDf0CL"
      },
      "id": "6BMXKEyDf0CL",
      "execution_count": null,
      "outputs": []
    }
  ],
  "metadata": {
    "kernelspec": {
      "display_name": "Python 3",
      "language": "python",
      "name": "python3"
    },
    "language_info": {
      "codemirror_mode": {
        "name": "ipython",
        "version": 3
      },
      "file_extension": ".py",
      "mimetype": "text/x-python",
      "name": "python",
      "nbconvert_exporter": "python",
      "pygments_lexer": "ipython3",
      "version": "3.8.8"
    },
    "colab": {
      "name": "Twitter Sentiment Analysis.ipynb",
      "provenance": []
    }
  },
  "nbformat": 4,
  "nbformat_minor": 5
}