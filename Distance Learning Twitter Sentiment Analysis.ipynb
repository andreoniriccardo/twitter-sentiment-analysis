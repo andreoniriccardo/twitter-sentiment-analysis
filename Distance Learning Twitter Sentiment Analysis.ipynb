{
  "cells": [
    {
      "cell_type": "markdown",
      "source": [
        "What I want?\n",
        "- readme con la descrizione del progetto. vedi anche https://www.nature.com/articles/s41598-022-12915-w#auth-Patrizia-Agati\n",
        "- parte di autenticazione API, vedere come mettere in modo sicuro le chiavi\n",
        "- parte di definizione di cosa cercare \"distance learning\"\n",
        "- parte di ricerca dei tweet\n",
        "- parte di organizzazione del DF e pulizia dei tweet (remove stopwords vedi articolo https://www.analyticsvidhya.com/blog/2021/06/twitter-sentiment-analysis-a-nlp-use-case-for-beginners/, remove emojis, lowercase for better generalization, remove punctuation to reduce noise, remove urls)\n",
        "- parte di sentiment analysis con algoritmo machine learning NLP\n",
        "\n",
        "Che output voglio:\n",
        "- number of tweets over time\n",
        "- emozione collegata ai tweet https://www.nature.com/articles/s41598-022-12915-w/figures/5\n",
        "- torta con la % di positivi negativi e neutri\n",
        "- cloud of words (vedi anche https://www.analyticsvidhya.com/blog/2021/06/twitter-sentiment-analysis-a-nlp-use-case-for-beginners/)\n",
        "\n",
        "Resources:\n",
        "https://github.com/tweepy/tweepy/issues/1461"
      ],
      "metadata": {
        "id": "mOXgPeqPOxS_"
      },
      "id": "mOXgPeqPOxS_"
    },
    {
      "cell_type": "code",
      "source": [
        "# import required libraries\n",
        "import tweepy\n",
        "import pandas as pd"
      ],
      "metadata": {
        "id": "OqgplW1HYTxf"
      },
      "id": "OqgplW1HYTxf",
      "execution_count": 39,
      "outputs": []
    },
    {
      "cell_type": "code",
      "source": [
        "# declare Twitter API keys and tokens\n",
        "api_key = \"oYiJRI9EDdUTXdK7gtjGHIUbY\"\n",
        "api_key_secret = \"qL6BGUq3EPXkLMTS0XWiUvDrLQb5S6ISKuWzeSBgADalUCSrTr\"\n",
        "\n",
        "access_token = \"1543856420185161728-w3tLGDH6pCuPf3heoBI8k42SOYU0w4\"\n",
        "access_token_secret = \"yKcz3LIdwPWbOg4fssaYOTiNaEGhCY419sVUAH5HJjk66\""
      ],
      "metadata": {
        "id": "LyxtApniYVoz"
      },
      "id": "LyxtApniYVoz",
      "execution_count": 3,
      "outputs": []
    },
    {
      "cell_type": "code",
      "source": [
        "# get authentication\n",
        "auth = tweepy.OAuthHandler(api_key, api_key_secret)\n",
        "auth.set_access_token(access_token, access_token_secret)"
      ],
      "metadata": {
        "id": "YN1IGovmYv_7"
      },
      "id": "YN1IGovmYv_7",
      "execution_count": 4,
      "outputs": []
    },
    {
      "cell_type": "code",
      "source": [
        "# create API object\n",
        "api = tweepy.API(auth)"
      ],
      "metadata": {
        "id": "4p24E-pkZN4Z"
      },
      "id": "4p24E-pkZN4Z",
      "execution_count": 5,
      "outputs": []
    },
    {
      "cell_type": "code",
      "source": [
        "# test API connection\n",
        "me = api.me()\n",
        "print(me.screen_name)"
      ],
      "metadata": {
        "id": "CtQLzVCTZTqa",
        "outputId": "ca3a1169-77b6-4aae-a931-c317040cddda",
        "colab": {
          "base_uri": "https://localhost:8080/"
        }
      },
      "id": "CtQLzVCTZTqa",
      "execution_count": 11,
      "outputs": [
        {
          "output_type": "stream",
          "name": "stdout",
          "text": [
            "r_andreoni0\n"
          ]
        }
      ]
    },
    {
      "cell_type": "code",
      "source": [
        "# define function to retrieve tweets for a defined day and topic\n",
        "def fetch_tweets(query, from_date, to_date, n_of_tweets):\n",
        "  query = str(query)\n",
        "  tweets_list = []\n",
        "  param_args = {\n",
        "    'environment_name': 'distancelearning',\n",
        "    'query': query,\n",
        "    'fromDate': from_date,\n",
        "    'toDate': to_date,\n",
        "  }\n",
        "  tweets = tweepy.Cursor(api.search_full_archive, **param_args).items(n_of_tweets)\n",
        "  columns = ['Time', 'User', 'Tweet']\n",
        "  for tweet in tweets:\n",
        "    if tweet.truncated:\n",
        "      tweets_list.append([tweet.created_at, tweet.user.screen_name, tweet.extended_tweet['full_text']])\n",
        "    else:\n",
        "      tweets_list.append([tweet.created_at, tweet.user.screen_name, tweet.text])\n",
        "\n",
        "  df = pd.DataFrame(tweets_list, columns=columns)\n",
        "  return df"
      ],
      "metadata": {
        "id": "9fGLdSASf9qS"
      },
      "id": "9fGLdSASf9qS",
      "execution_count": 40,
      "outputs": []
    },
    {
      "cell_type": "code",
      "source": [
        ""
      ],
      "metadata": {
        "id": "Gya6ttwrrTvf"
      },
      "id": "Gya6ttwrrTvf",
      "execution_count": null,
      "outputs": []
    }
  ],
  "metadata": {
    "kernelspec": {
      "display_name": "Python 3",
      "language": "python",
      "name": "python3"
    },
    "language_info": {
      "codemirror_mode": {
        "name": "ipython",
        "version": 3
      },
      "file_extension": ".py",
      "mimetype": "text/x-python",
      "name": "python",
      "nbconvert_exporter": "python",
      "pygments_lexer": "ipython3",
      "version": "3.8.8"
    },
    "colab": {
      "name": "Twitter Sentiment Analysis.ipynb",
      "provenance": []
    }
  },
  "nbformat": 4,
  "nbformat_minor": 5
}